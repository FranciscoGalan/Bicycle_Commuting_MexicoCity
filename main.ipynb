{
 "cells": [
  {
   "cell_type": "markdown",
   "metadata": {},
   "source": [
    "# Bicycle Commuting Data"
   ]
  },
  {
   "cell_type": "code",
   "execution_count": 1,
   "metadata": {},
   "outputs": [],
   "source": [
    "import pandas as pd\n",
    "import numpy as np\n",
    "import re\n",
    "import matplotlib.pyplot as plt\n",
    "import seaborn as sns"
   ]
  },
  {
   "cell_type": "markdown",
   "metadata": {},
   "source": [
    "The data used for the analysis was taken from three datasets of Mexico City's government [website](https://datos.cdmx.gob.mx/):\n",
    "\n",
    "| Dataset                         | Location    | Date of download |\n",
    "| ------------------------------- | ------------------------------------------------------------ | ---------------- |\n",
    "| Bicycle counter                 | https://datos.cdmx.gob.mx/dataset/contador-ciclistas         | 11-Dec-2020      |\n",
    "| Road accidents                  | https://datos.cdmx.gob.mx/dataset/incidentes-viales-c5       | 11-Dec-2020      |\n",
    "| Estudio de Conteo ciclista 2018 | https://datos.cdmx.gob.mx/dataset/estudio-de-conteo-ciclista-2018 | 11-Dec-2020      |"
   ]
  },
  {
   "cell_type": "markdown",
   "metadata": {},
   "source": [
    "I have already downloaded them in the /Data directory, so let's import them."
   ]
  },
  {
   "cell_type": "code",
   "execution_count": 2,
   "metadata": {},
   "outputs": [],
   "source": [
    "contador = pd.read_csv('Data/contador-ciclistas.csv')\n",
    "incidentes = pd.read_csv('Data/incidentes-viales-c5.csv')\n",
    "estudio = pd.read_csv('Data/estudio-de-conteo-ciclista-2018.csv')"
   ]
  },
  {
   "cell_type": "markdown",
   "metadata": {},
   "source": [
    "## 1. Bicycle counter"
   ]
  },
  {
   "cell_type": "markdown",
   "metadata": {},
   "source": [
    "### Data exploration"
   ]
  },
  {
   "cell_type": "code",
   "execution_count": 3,
   "metadata": {},
   "outputs": [
    {
     "data": {
      "text/html": [
       "<div>\n",
       "<style scoped>\n",
       "    .dataframe tbody tr th:only-of-type {\n",
       "        vertical-align: middle;\n",
       "    }\n",
       "\n",
       "    .dataframe tbody tr th {\n",
       "        vertical-align: top;\n",
       "    }\n",
       "\n",
       "    .dataframe thead th {\n",
       "        text-align: right;\n",
       "    }\n",
       "</style>\n",
       "<table border=\"1\" class=\"dataframe\">\n",
       "  <thead>\n",
       "    <tr style=\"text-align: right;\">\n",
       "      <th></th>\n",
       "      <th>Id</th>\n",
       "      <th>dia_de_la_semana</th>\n",
       "      <th>dia</th>\n",
       "      <th>mes</th>\n",
       "      <th>ano</th>\n",
       "      <th>contador_ruta_reforma222</th>\n",
       "      <th>contador_ruta_revolucion</th>\n",
       "      <th>contador_ruta_patriotismo</th>\n",
       "    </tr>\n",
       "  </thead>\n",
       "  <tbody>\n",
       "    <tr>\n",
       "      <th>0</th>\n",
       "      <td>1</td>\n",
       "      <td>jueves</td>\n",
       "      <td>5</td>\n",
       "      <td>diciembre</td>\n",
       "      <td>2013</td>\n",
       "      <td>2516.0</td>\n",
       "      <td>NaN</td>\n",
       "      <td>NaN</td>\n",
       "    </tr>\n",
       "    <tr>\n",
       "      <th>1</th>\n",
       "      <td>2</td>\n",
       "      <td>lunes</td>\n",
       "      <td>9</td>\n",
       "      <td>diciembre</td>\n",
       "      <td>2013</td>\n",
       "      <td>2132.0</td>\n",
       "      <td>NaN</td>\n",
       "      <td>NaN</td>\n",
       "    </tr>\n",
       "    <tr>\n",
       "      <th>2</th>\n",
       "      <td>3</td>\n",
       "      <td>viernes</td>\n",
       "      <td>22</td>\n",
       "      <td>junio</td>\n",
       "      <td>2018</td>\n",
       "      <td>2913.0</td>\n",
       "      <td>980.0</td>\n",
       "      <td>1163.0</td>\n",
       "    </tr>\n",
       "    <tr>\n",
       "      <th>3</th>\n",
       "      <td>4</td>\n",
       "      <td>martes</td>\n",
       "      <td>10</td>\n",
       "      <td>julio</td>\n",
       "      <td>2018</td>\n",
       "      <td>2531.0</td>\n",
       "      <td>877.0</td>\n",
       "      <td>1013.0</td>\n",
       "    </tr>\n",
       "    <tr>\n",
       "      <th>4</th>\n",
       "      <td>5</td>\n",
       "      <td>sábado</td>\n",
       "      <td>7</td>\n",
       "      <td>julio</td>\n",
       "      <td>2018</td>\n",
       "      <td>1534.0</td>\n",
       "      <td>616.0</td>\n",
       "      <td>584.0</td>\n",
       "    </tr>\n",
       "  </tbody>\n",
       "</table>\n",
       "</div>"
      ],
      "text/plain": [
       "   Id dia_de_la_semana  dia        mes   ano  contador_ruta_reforma222  \\\n",
       "0   1           jueves    5  diciembre  2013                    2516.0   \n",
       "1   2            lunes    9  diciembre  2013                    2132.0   \n",
       "2   3          viernes   22      junio  2018                    2913.0   \n",
       "3   4           martes   10      julio  2018                    2531.0   \n",
       "4   5           sábado    7      julio  2018                    1534.0   \n",
       "\n",
       "   contador_ruta_revolucion  contador_ruta_patriotismo  \n",
       "0                       NaN                        NaN  \n",
       "1                       NaN                        NaN  \n",
       "2                     980.0                     1163.0  \n",
       "3                     877.0                     1013.0  \n",
       "4                     616.0                      584.0  "
      ]
     },
     "execution_count": 3,
     "metadata": {},
     "output_type": "execute_result"
    }
   ],
   "source": [
    "contador.head()"
   ]
  },
  {
   "cell_type": "code",
   "execution_count": 4,
   "metadata": {},
   "outputs": [
    {
     "name": "stdout",
     "output_type": "stream",
     "text": [
      "<class 'pandas.core.frame.DataFrame'>\n",
      "RangeIndex: 2525 entries, 0 to 2524\n",
      "Data columns (total 8 columns):\n",
      " #   Column                     Non-Null Count  Dtype  \n",
      "---  ------                     --------------  -----  \n",
      " 0   Id                         2525 non-null   int64  \n",
      " 1   dia_de_la_semana           2525 non-null   object \n",
      " 2   dia                        2525 non-null   int64  \n",
      " 3   mes                        2525 non-null   object \n",
      " 4   ano                        2525 non-null   int64  \n",
      " 5   contador_ruta_reforma222   2150 non-null   float64\n",
      " 6   contador_ruta_revolucion   1533 non-null   float64\n",
      " 7   contador_ruta_patriotismo  1537 non-null   float64\n",
      "dtypes: float64(3), int64(3), object(2)\n",
      "memory usage: 157.9+ KB\n"
     ]
    }
   ],
   "source": [
    "contador.info()"
   ]
  },
  {
   "cell_type": "code",
   "execution_count": 5,
   "metadata": {},
   "outputs": [
    {
     "data": {
      "text/plain": [
       "Id                             0\n",
       "dia_de_la_semana               0\n",
       "dia                            0\n",
       "mes                            0\n",
       "ano                            0\n",
       "contador_ruta_reforma222     375\n",
       "contador_ruta_revolucion     992\n",
       "contador_ruta_patriotismo    988\n",
       "dtype: int64"
      ]
     },
     "execution_count": 5,
     "metadata": {},
     "output_type": "execute_result"
    }
   ],
   "source": [
    "contador.isnull().sum()"
   ]
  },
  {
   "cell_type": "markdown",
   "metadata": {},
   "source": [
    "It seems that the counters didn't start recolecting data at the same time. We should see when did each start by  visualizing where exactly are the null values. However, the dataset is not ordered by date, so let's transform the dates to a datetime format."
   ]
  },
  {
   "cell_type": "markdown",
   "metadata": {},
   "source": [
    "### Data cleaning"
   ]
  },
  {
   "cell_type": "code",
   "execution_count": 6,
   "metadata": {},
   "outputs": [],
   "source": [
    "#Drop id column\n",
    "contador.drop('Id', axis=1, inplace=True)"
   ]
  },
  {
   "cell_type": "code",
   "execution_count": 7,
   "metadata": {},
   "outputs": [
    {
     "data": {
      "text/plain": [
       "Index(['dia_de_la_semana', 'dia', 'mes', 'ano', 'contador_ruta_reforma222',\n",
       "       'contador_ruta_revolucion', 'contador_ruta_patriotismo'],\n",
       "      dtype='object')"
      ]
     },
     "execution_count": 7,
     "metadata": {},
     "output_type": "execute_result"
    }
   ],
   "source": [
    "# Change column names\n",
    "contador.columns"
   ]
  },
  {
   "cell_type": "code",
   "execution_count": 8,
   "metadata": {},
   "outputs": [],
   "source": [
    "contador.columns = ['Día de la semana', 'Día', 'Mes', 'Año', 'Reforma', 'Revolución', 'Patriotismo']"
   ]
  },
  {
   "cell_type": "code",
   "execution_count": 9,
   "metadata": {},
   "outputs": [],
   "source": [
    "# Transform months to categories to order them.\n",
    "meses = ['enero', 'febrero', 'marzo', 'abril', 'mayo', 'junio', 'julio', 'agosto', 'septiembre', 'octubre', 'noviembre', 'diciembre']\n",
    "contador['Mes'] = pd.Categorical(contador['Mes'], meses)\n",
    "\n",
    "# Order values in descending order.\n",
    "contador = contador.sort_values(['Año', 'Mes', 'Día'])\n",
    "\n",
    "# Change months back to object type\n",
    "contador['Mes'] = contador['Mes'].astype('object')"
   ]
  },
  {
   "cell_type": "code",
   "execution_count": 10,
   "metadata": {},
   "outputs": [],
   "source": [
    "# Label-encode months\n",
    "dict_meses = {}\n",
    "number = 0\n",
    "for mes in meses: \n",
    "    number += 1\n",
    "    dict_meses[mes] = number\n",
    "    \n",
    "contador['Mes'] = contador['Mes'].map(dict_meses)"
   ]
  },
  {
   "cell_type": "code",
   "execution_count": 11,
   "metadata": {},
   "outputs": [],
   "source": [
    "# Create new column with complete date\n",
    "contador.insert(4, 'Fecha', pd.to_datetime(contador.Año*10000+contador.Mes*100+contador.Día, format='%Y%m%d'))"
   ]
  },
  {
   "cell_type": "code",
   "execution_count": 12,
   "metadata": {},
   "outputs": [],
   "source": [
    "# Reset indexes\n",
    "contador = contador.reset_index(drop=True)"
   ]
  },
  {
   "cell_type": "code",
   "execution_count": 13,
   "metadata": {},
   "outputs": [
    {
     "data": {
      "text/html": [
       "<div>\n",
       "<style scoped>\n",
       "    .dataframe tbody tr th:only-of-type {\n",
       "        vertical-align: middle;\n",
       "    }\n",
       "\n",
       "    .dataframe tbody tr th {\n",
       "        vertical-align: top;\n",
       "    }\n",
       "\n",
       "    .dataframe thead th {\n",
       "        text-align: right;\n",
       "    }\n",
       "</style>\n",
       "<table border=\"1\" class=\"dataframe\">\n",
       "  <thead>\n",
       "    <tr style=\"text-align: right;\">\n",
       "      <th></th>\n",
       "      <th>Día de la semana</th>\n",
       "      <th>Día</th>\n",
       "      <th>Mes</th>\n",
       "      <th>Año</th>\n",
       "      <th>Fecha</th>\n",
       "      <th>Reforma</th>\n",
       "      <th>Revolución</th>\n",
       "      <th>Patriotismo</th>\n",
       "    </tr>\n",
       "  </thead>\n",
       "  <tbody>\n",
       "    <tr>\n",
       "      <th>0</th>\n",
       "      <td>sábado</td>\n",
       "      <td>16</td>\n",
       "      <td>11</td>\n",
       "      <td>2013</td>\n",
       "      <td>2013-11-16</td>\n",
       "      <td>613.0</td>\n",
       "      <td>NaN</td>\n",
       "      <td>NaN</td>\n",
       "    </tr>\n",
       "    <tr>\n",
       "      <th>1</th>\n",
       "      <td>domingo</td>\n",
       "      <td>17</td>\n",
       "      <td>11</td>\n",
       "      <td>2013</td>\n",
       "      <td>2013-11-17</td>\n",
       "      <td>1084.0</td>\n",
       "      <td>NaN</td>\n",
       "      <td>NaN</td>\n",
       "    </tr>\n",
       "    <tr>\n",
       "      <th>2</th>\n",
       "      <td>lunes</td>\n",
       "      <td>18</td>\n",
       "      <td>11</td>\n",
       "      <td>2013</td>\n",
       "      <td>2013-11-18</td>\n",
       "      <td>1073.0</td>\n",
       "      <td>NaN</td>\n",
       "      <td>NaN</td>\n",
       "    </tr>\n",
       "    <tr>\n",
       "      <th>3</th>\n",
       "      <td>martes</td>\n",
       "      <td>19</td>\n",
       "      <td>11</td>\n",
       "      <td>2013</td>\n",
       "      <td>2013-11-19</td>\n",
       "      <td>1344.0</td>\n",
       "      <td>NaN</td>\n",
       "      <td>NaN</td>\n",
       "    </tr>\n",
       "  </tbody>\n",
       "</table>\n",
       "</div>"
      ],
      "text/plain": [
       "  Día de la semana  Día  Mes   Año      Fecha  Reforma  Revolución  \\\n",
       "0           sábado   16   11  2013 2013-11-16    613.0         NaN   \n",
       "1          domingo   17   11  2013 2013-11-17   1084.0         NaN   \n",
       "2            lunes   18   11  2013 2013-11-18   1073.0         NaN   \n",
       "3           martes   19   11  2013 2013-11-19   1344.0         NaN   \n",
       "\n",
       "   Patriotismo  \n",
       "0          NaN  \n",
       "1          NaN  \n",
       "2          NaN  \n",
       "3          NaN  "
      ]
     },
     "execution_count": 13,
     "metadata": {},
     "output_type": "execute_result"
    }
   ],
   "source": [
    "contador.head(4)"
   ]
  },
  {
   "cell_type": "code",
   "execution_count": 14,
   "metadata": {
    "scrolled": true
   },
   "outputs": [],
   "source": [
    "# Change months back to string format\n",
    "dict_meses_inverso = {}\n",
    "for mes, numero in dict_meses.items():\n",
    "    dict_meses_inverso[numero] = mes\n",
    "    \n",
    "contador['Mes'] = contador['Mes'].map(dict_meses_inverso)"
   ]
  },
  {
   "cell_type": "code",
   "execution_count": 15,
   "metadata": {},
   "outputs": [],
   "source": [
    "# Replace special characters\n",
    "contador['Día de la semana'] = contador['Día de la semana'].str.replace('á', 'a').str.replace('é', 'e')"
   ]
  },
  {
   "cell_type": "markdown",
   "metadata": {},
   "source": [
    "Now that we have a clean and ordered dataset, we can visualize the distribution of null values."
   ]
  },
  {
   "cell_type": "code",
   "execution_count": 16,
   "metadata": {},
   "outputs": [],
   "source": [
    "# Create dictionary with column types.\n",
    "def recognize_column_type(dtf, col, max_cat=20):\n",
    "    \"\"\"Returns the type of a column\"\"\"\n",
    "    \n",
    "    if (dtf[col].dtype == \"O\") | (dtf[col].nunique() < max_cat):\n",
    "        return \"cat\"\n",
    "    else:\n",
    "        return \"num\"\n",
    "\n",
    "dic_cols = {col:recognize_column_type(contador, col, max_cat=20) for col in contador.columns}"
   ]
  },
  {
   "cell_type": "code",
   "execution_count": 17,
   "metadata": {},
   "outputs": [
    {
     "data": {
      "image/png": "[encoded data removed]",
      "text/plain": [
       "<Figure size 432x288 with 1 Axes>"
      ]
     },
     "metadata": {
      "needs_background": "light"
     },
     "output_type": "display_data"
    },
    {
     "name": "stdout",
     "output_type": "stream",
     "text": [
      "\u001b[1;37;40m Categorical  \u001b[1;30;41m Numeric  \u001b[1;30;47m NaN \n"
     ]
    }
   ],
   "source": [
    "# Visualize data\n",
    "heatmap = contador.isnull()\n",
    "for k,v in dic_cols.items():\n",
    "    if v == \"num\":\n",
    "        heatmap[k] = heatmap[k].apply(lambda x: 0.5 if x is False else 1)\n",
    "    else:\n",
    "        heatmap[k] = heatmap[k].apply(lambda x: 0 if x is False else 1)\n",
    "        \n",
    "sns.heatmap(heatmap, cbar=False).set_title('Null values distribution')\n",
    "sns.set(rc={'figure.figsize':(10,5)});\n",
    "plt.show()\n",
    "print(\"\\033[1;37;40m Categorical \", \"\\033[1;30;41m Numeric \", \"\\033[1;30;47m NaN \")"
   ]
  },
  {
   "cell_type": "code",
   "execution_count": 18,
   "metadata": {},
   "outputs": [
    {
     "data": {
      "text/html": [
       "<div>\n",
       "<style scoped>\n",
       "    .dataframe tbody tr th:only-of-type {\n",
       "        vertical-align: middle;\n",
       "    }\n",
       "\n",
       "    .dataframe tbody tr th {\n",
       "        vertical-align: top;\n",
       "    }\n",
       "\n",
       "    .dataframe thead th {\n",
       "        text-align: right;\n",
       "    }\n",
       "</style>\n",
       "<table border=\"1\" class=\"dataframe\">\n",
       "  <thead>\n",
       "    <tr style=\"text-align: right;\">\n",
       "      <th></th>\n",
       "      <th>Día de la semana</th>\n",
       "      <th>Día</th>\n",
       "      <th>Mes</th>\n",
       "      <th>Año</th>\n",
       "      <th>Fecha</th>\n",
       "      <th>Reforma</th>\n",
       "      <th>Revolución</th>\n",
       "      <th>Patriotismo</th>\n",
       "    </tr>\n",
       "  </thead>\n",
       "  <tbody>\n",
       "    <tr>\n",
       "      <th>0</th>\n",
       "      <td>sabado</td>\n",
       "      <td>16</td>\n",
       "      <td>noviembre</td>\n",
       "      <td>2013</td>\n",
       "      <td>2013-11-16</td>\n",
       "      <td>613.0</td>\n",
       "      <td>NaN</td>\n",
       "      <td>NaN</td>\n",
       "    </tr>\n",
       "  </tbody>\n",
       "</table>\n",
       "</div>"
      ],
      "text/plain": [
       "  Día de la semana  Día        Mes   Año      Fecha  Reforma  Revolución  \\\n",
       "0           sabado   16  noviembre  2013 2013-11-16    613.0         NaN   \n",
       "\n",
       "   Patriotismo  \n",
       "0          NaN  "
      ]
     },
     "execution_count": 18,
     "metadata": {},
     "output_type": "execute_result"
    }
   ],
   "source": [
    "contador.head(1)"
   ]
  },
  {
   "cell_type": "code",
   "execution_count": 19,
   "metadata": {
    "scrolled": true
   },
   "outputs": [
    {
     "data": {
      "text/html": [
       "<div>\n",
       "<style scoped>\n",
       "    .dataframe tbody tr th:only-of-type {\n",
       "        vertical-align: middle;\n",
       "    }\n",
       "\n",
       "    .dataframe tbody tr th {\n",
       "        vertical-align: top;\n",
       "    }\n",
       "\n",
       "    .dataframe thead th {\n",
       "        text-align: right;\n",
       "    }\n",
       "</style>\n",
       "<table border=\"1\" class=\"dataframe\">\n",
       "  <thead>\n",
       "    <tr style=\"text-align: right;\">\n",
       "      <th></th>\n",
       "      <th>Día de la semana</th>\n",
       "      <th>Día</th>\n",
       "      <th>Mes</th>\n",
       "      <th>Año</th>\n",
       "      <th>Fecha</th>\n",
       "      <th>Reforma</th>\n",
       "      <th>Revolución</th>\n",
       "      <th>Patriotismo</th>\n",
       "    </tr>\n",
       "  </thead>\n",
       "  <tbody>\n",
       "    <tr>\n",
       "      <th>941</th>\n",
       "      <td>martes</td>\n",
       "      <td>14</td>\n",
       "      <td>junio</td>\n",
       "      <td>2016</td>\n",
       "      <td>2016-06-14</td>\n",
       "      <td>2884.0</td>\n",
       "      <td>333.0</td>\n",
       "      <td>256.0</td>\n",
       "    </tr>\n",
       "    <tr>\n",
       "      <th>942</th>\n",
       "      <td>miercoles</td>\n",
       "      <td>15</td>\n",
       "      <td>junio</td>\n",
       "      <td>2016</td>\n",
       "      <td>2016-06-15</td>\n",
       "      <td>2909.0</td>\n",
       "      <td>864.0</td>\n",
       "      <td>993.0</td>\n",
       "    </tr>\n",
       "    <tr>\n",
       "      <th>943</th>\n",
       "      <td>jueves</td>\n",
       "      <td>16</td>\n",
       "      <td>junio</td>\n",
       "      <td>2016</td>\n",
       "      <td>2016-06-16</td>\n",
       "      <td>283.0</td>\n",
       "      <td>855.0</td>\n",
       "      <td>901.0</td>\n",
       "    </tr>\n",
       "    <tr>\n",
       "      <th>944</th>\n",
       "      <td>viernes</td>\n",
       "      <td>17</td>\n",
       "      <td>junio</td>\n",
       "      <td>2016</td>\n",
       "      <td>2016-06-17</td>\n",
       "      <td>2695.0</td>\n",
       "      <td>889.0</td>\n",
       "      <td>856.0</td>\n",
       "    </tr>\n",
       "  </tbody>\n",
       "</table>\n",
       "</div>"
      ],
      "text/plain": [
       "    Día de la semana  Día    Mes   Año      Fecha  Reforma  Revolución  \\\n",
       "941           martes   14  junio  2016 2016-06-14   2884.0       333.0   \n",
       "942        miercoles   15  junio  2016 2016-06-15   2909.0       864.0   \n",
       "943           jueves   16  junio  2016 2016-06-16    283.0       855.0   \n",
       "944          viernes   17  junio  2016 2016-06-17   2695.0       889.0   \n",
       "\n",
       "     Patriotismo  \n",
       "941        256.0  \n",
       "942        993.0  \n",
       "943        901.0  \n",
       "944        856.0  "
      ]
     },
     "execution_count": 19,
     "metadata": {},
     "output_type": "execute_result"
    }
   ],
   "source": [
    "contador[contador['Revolución'].notnull()].head(4)"
   ]
  },
  {
   "cell_type": "markdown",
   "metadata": {},
   "source": [
    "The first counter that the government installed seems to be Reforma, in **16 Nov 2013**. Afterward, the counters for avenue Revolución and Patriotismo were installed in **14 June 2016**."
   ]
  },
  {
   "cell_type": "code",
   "execution_count": 20,
   "metadata": {},
   "outputs": [
    {
     "data": {
      "text/html": [
       "<div>\n",
       "<style scoped>\n",
       "    .dataframe tbody tr th:only-of-type {\n",
       "        vertical-align: middle;\n",
       "    }\n",
       "\n",
       "    .dataframe tbody tr th {\n",
       "        vertical-align: top;\n",
       "    }\n",
       "\n",
       "    .dataframe thead th {\n",
       "        text-align: right;\n",
       "    }\n",
       "</style>\n",
       "<table border=\"1\" class=\"dataframe\">\n",
       "  <thead>\n",
       "    <tr style=\"text-align: right;\">\n",
       "      <th></th>\n",
       "      <th>Día de la semana</th>\n",
       "      <th>Día</th>\n",
       "      <th>Mes</th>\n",
       "      <th>Año</th>\n",
       "      <th>Fecha</th>\n",
       "      <th>Reforma</th>\n",
       "      <th>Revolución</th>\n",
       "      <th>Patriotismo</th>\n",
       "    </tr>\n",
       "  </thead>\n",
       "  <tbody>\n",
       "    <tr>\n",
       "      <th>2520</th>\n",
       "      <td>miercoles</td>\n",
       "      <td>24</td>\n",
       "      <td>febrero</td>\n",
       "      <td>2021</td>\n",
       "      <td>2021-02-24</td>\n",
       "      <td>NaN</td>\n",
       "      <td>455.0</td>\n",
       "      <td>725.0</td>\n",
       "    </tr>\n",
       "    <tr>\n",
       "      <th>2521</th>\n",
       "      <td>jueves</td>\n",
       "      <td>25</td>\n",
       "      <td>febrero</td>\n",
       "      <td>2021</td>\n",
       "      <td>2021-02-25</td>\n",
       "      <td>NaN</td>\n",
       "      <td>491.0</td>\n",
       "      <td>774.0</td>\n",
       "    </tr>\n",
       "    <tr>\n",
       "      <th>2522</th>\n",
       "      <td>viernes</td>\n",
       "      <td>26</td>\n",
       "      <td>febrero</td>\n",
       "      <td>2021</td>\n",
       "      <td>2021-02-26</td>\n",
       "      <td>NaN</td>\n",
       "      <td>527.0</td>\n",
       "      <td>735.0</td>\n",
       "    </tr>\n",
       "    <tr>\n",
       "      <th>2523</th>\n",
       "      <td>sabado</td>\n",
       "      <td>27</td>\n",
       "      <td>febrero</td>\n",
       "      <td>2021</td>\n",
       "      <td>2021-02-27</td>\n",
       "      <td>NaN</td>\n",
       "      <td>457.0</td>\n",
       "      <td>753.0</td>\n",
       "    </tr>\n",
       "    <tr>\n",
       "      <th>2524</th>\n",
       "      <td>domingo</td>\n",
       "      <td>28</td>\n",
       "      <td>febrero</td>\n",
       "      <td>2021</td>\n",
       "      <td>2021-02-28</td>\n",
       "      <td>NaN</td>\n",
       "      <td>422.0</td>\n",
       "      <td>953.0</td>\n",
       "    </tr>\n",
       "  </tbody>\n",
       "</table>\n",
       "</div>"
      ],
      "text/plain": [
       "     Día de la semana  Día      Mes   Año      Fecha  Reforma  Revolución  \\\n",
       "2520        miercoles   24  febrero  2021 2021-02-24      NaN       455.0   \n",
       "2521           jueves   25  febrero  2021 2021-02-25      NaN       491.0   \n",
       "2522          viernes   26  febrero  2021 2021-02-26      NaN       527.0   \n",
       "2523           sabado   27  febrero  2021 2021-02-27      NaN       457.0   \n",
       "2524          domingo   28  febrero  2021 2021-02-28      NaN       422.0   \n",
       "\n",
       "      Patriotismo  \n",
       "2520        725.0  \n",
       "2521        774.0  \n",
       "2522        735.0  \n",
       "2523        753.0  \n",
       "2524        953.0  "
      ]
     },
     "execution_count": 20,
     "metadata": {},
     "output_type": "execute_result"
    }
   ],
   "source": [
    "contador.tail()"
   ]
  },
  {
   "cell_type": "markdown",
   "metadata": {},
   "source": [
    "Moreover, the last available values are for **September of 2020**. We should keep this in mind when we visualize the information."
   ]
  },
  {
   "cell_type": "markdown",
   "metadata": {},
   "source": [
    "Besides the missing values, we should also check that we have data for all months within our range (since maybe the counters do not register all months equally):"
   ]
  },
  {
   "cell_type": "code",
   "execution_count": 21,
   "metadata": {},
   "outputs": [
    {
     "data": {
      "image/png": "[encoded data removed]",
      "text/plain": [
       "<Figure size 720x360 with 1 Axes>"
      ]
     },
     "metadata": {},
     "output_type": "display_data"
    }
   ],
   "source": [
    "sns.set_theme()\n",
    "data_lineplot = pd.melt(contador[['Fecha', 'Reforma', 'Revolución', 'Patriotismo']], 'Fecha', var_name='contador', value_name='número')\n",
    "sns.lineplot(x='Fecha', y='número', hue='contador', data=data_lineplot)\n",
    "\n",
    "#Change figure size\n",
    "sns.set(rc={'figure.figsize':(17,10)});"
   ]
  },
  {
   "cell_type": "markdown",
   "metadata": {},
   "source": [
    "It is difficult to tell if we have data available for all months. However, we can identify other insights:\n",
    "- We confirm the gaps of missing values that we saw previously in the Reforma counter. \n",
    "- The lines fluctuate, probably because there is a difference in the day-to-day usage of bicycles. \n",
    "- There was a big spike in the Reforma and Patriotismo counters just before we get a gap in our data. Was there some sort of holiday?\n",
    "- There is a straight line towards the end of 2019 which looks weird. However, I won't address it for the rest of the analysis. "
   ]
  },
  {
   "cell_type": "markdown",
   "metadata": {},
   "source": [
    "Let's zoom in to a random year to check if we have data for all months."
   ]
  },
  {
   "cell_type": "code",
   "execution_count": 22,
   "metadata": {},
   "outputs": [
    {
     "data": {
      "image/png": "[encoded data removed]",
      "text/plain": [
       "<Figure size 1224x720 with 1 Axes>"
      ]
     },
     "metadata": {},
     "output_type": "display_data"
    }
   ],
   "source": [
    "data_lineplot2 = pd.melt(contador.loc[contador['Año'] == 2017,['Fecha', 'Reforma', 'Revolución', 'Patriotismo']], 'Fecha', var_name='contador', value_name='número')\n",
    "sns.lineplot(x='Fecha', y='número', hue='contador', data=data_lineplot2)\n",
    "\n",
    "#Change figure size\n",
    "sns.set(rc={'figure.figsize':(10,4)});"
   ]
  },
  {
   "cell_type": "markdown",
   "metadata": {},
   "source": [
    "Yes, we seem to have data for all months, so let's proceed to deal with the missing values."
   ]
  },
  {
   "cell_type": "markdown",
   "metadata": {},
   "source": [
    "### Missing values"
   ]
  },
  {
   "cell_type": "markdown",
   "metadata": {},
   "source": [
    "Now we have to deal with the **missing values**. The values for Revolución and Patriotismo up to 14 June 2016 are simple: we could replace them with a cero, since cero bicycles were, in a way, counted by the counters."
   ]
  },
  {
   "cell_type": "code",
   "execution_count": 23,
   "metadata": {},
   "outputs": [],
   "source": [
    "# Fill missing values up to the installation of the counters.\n",
    "contador.loc[0:940, ['Revolución', 'Patriotismo']] = contador.loc[0:940, ['Revolución', 'Patriotismo']].fillna(0)"
   ]
  },
  {
   "cell_type": "markdown",
   "metadata": {},
   "source": [
    "For the other ones, let's look at them more closely:"
   ]
  },
  {
   "cell_type": "code",
   "execution_count": 24,
   "metadata": {},
   "outputs": [
    {
     "data": {
      "text/html": [
       "<div>\n",
       "<style scoped>\n",
       "    .dataframe tbody tr th:only-of-type {\n",
       "        vertical-align: middle;\n",
       "    }\n",
       "\n",
       "    .dataframe tbody tr th {\n",
       "        vertical-align: top;\n",
       "    }\n",
       "\n",
       "    .dataframe thead th {\n",
       "        text-align: right;\n",
       "    }\n",
       "</style>\n",
       "<table border=\"1\" class=\"dataframe\">\n",
       "  <thead>\n",
       "    <tr style=\"text-align: right;\">\n",
       "      <th></th>\n",
       "      <th>Día de la semana</th>\n",
       "      <th>Día</th>\n",
       "      <th>Mes</th>\n",
       "      <th>Año</th>\n",
       "      <th>Fecha</th>\n",
       "      <th>Reforma</th>\n",
       "      <th>Revolución</th>\n",
       "      <th>Patriotismo</th>\n",
       "    </tr>\n",
       "  </thead>\n",
       "  <tbody>\n",
       "    <tr>\n",
       "      <th>1341</th>\n",
       "      <td>miercoles</td>\n",
       "      <td>19</td>\n",
       "      <td>julio</td>\n",
       "      <td>2017</td>\n",
       "      <td>2017-07-19</td>\n",
       "      <td>NaN</td>\n",
       "      <td>1017.0</td>\n",
       "      <td>1061.0</td>\n",
       "    </tr>\n",
       "    <tr>\n",
       "      <th>1342</th>\n",
       "      <td>jueves</td>\n",
       "      <td>20</td>\n",
       "      <td>julio</td>\n",
       "      <td>2017</td>\n",
       "      <td>2017-07-20</td>\n",
       "      <td>NaN</td>\n",
       "      <td>959.0</td>\n",
       "      <td>1081.0</td>\n",
       "    </tr>\n",
       "    <tr>\n",
       "      <th>1343</th>\n",
       "      <td>viernes</td>\n",
       "      <td>21</td>\n",
       "      <td>julio</td>\n",
       "      <td>2017</td>\n",
       "      <td>2017-07-21</td>\n",
       "      <td>NaN</td>\n",
       "      <td>878.0</td>\n",
       "      <td>963.0</td>\n",
       "    </tr>\n",
       "    <tr>\n",
       "      <th>1344</th>\n",
       "      <td>sabado</td>\n",
       "      <td>22</td>\n",
       "      <td>julio</td>\n",
       "      <td>2017</td>\n",
       "      <td>2017-07-22</td>\n",
       "      <td>NaN</td>\n",
       "      <td>627.0</td>\n",
       "      <td>558.0</td>\n",
       "    </tr>\n",
       "    <tr>\n",
       "      <th>1345</th>\n",
       "      <td>domingo</td>\n",
       "      <td>23</td>\n",
       "      <td>julio</td>\n",
       "      <td>2017</td>\n",
       "      <td>2017-07-23</td>\n",
       "      <td>NaN</td>\n",
       "      <td>423.0</td>\n",
       "      <td>580.0</td>\n",
       "    </tr>\n",
       "  </tbody>\n",
       "</table>\n",
       "</div>"
      ],
      "text/plain": [
       "     Día de la semana  Día    Mes   Año      Fecha  Reforma  Revolución  \\\n",
       "1341        miercoles   19  julio  2017 2017-07-19      NaN      1017.0   \n",
       "1342           jueves   20  julio  2017 2017-07-20      NaN       959.0   \n",
       "1343          viernes   21  julio  2017 2017-07-21      NaN       878.0   \n",
       "1344           sabado   22  julio  2017 2017-07-22      NaN       627.0   \n",
       "1345          domingo   23  julio  2017 2017-07-23      NaN       423.0   \n",
       "\n",
       "      Patriotismo  \n",
       "1341       1061.0  \n",
       "1342       1081.0  \n",
       "1343        963.0  \n",
       "1344        558.0  \n",
       "1345        580.0  "
      ]
     },
     "execution_count": 24,
     "metadata": {},
     "output_type": "execute_result"
    }
   ],
   "source": [
    "contador[contador['Reforma'].isnull()].head()"
   ]
  },
  {
   "cell_type": "code",
   "execution_count": 25,
   "metadata": {},
   "outputs": [
    {
     "data": {
      "text/html": [
       "<div>\n",
       "<style scoped>\n",
       "    .dataframe tbody tr th:only-of-type {\n",
       "        vertical-align: middle;\n",
       "    }\n",
       "\n",
       "    .dataframe tbody tr th {\n",
       "        vertical-align: top;\n",
       "    }\n",
       "\n",
       "    .dataframe thead th {\n",
       "        text-align: right;\n",
       "    }\n",
       "</style>\n",
       "<table border=\"1\" class=\"dataframe\">\n",
       "  <thead>\n",
       "    <tr style=\"text-align: right;\">\n",
       "      <th></th>\n",
       "      <th>Día de la semana</th>\n",
       "      <th>Día</th>\n",
       "      <th>Mes</th>\n",
       "      <th>Año</th>\n",
       "      <th>Fecha</th>\n",
       "      <th>Reforma</th>\n",
       "      <th>Revolución</th>\n",
       "      <th>Patriotismo</th>\n",
       "    </tr>\n",
       "  </thead>\n",
       "  <tbody>\n",
       "    <tr>\n",
       "      <th>1336</th>\n",
       "      <td>viernes</td>\n",
       "      <td>14</td>\n",
       "      <td>julio</td>\n",
       "      <td>2017</td>\n",
       "      <td>2017-07-14</td>\n",
       "      <td>7291.0</td>\n",
       "      <td>1007.0</td>\n",
       "      <td>1041.0</td>\n",
       "    </tr>\n",
       "    <tr>\n",
       "      <th>1337</th>\n",
       "      <td>sabado</td>\n",
       "      <td>15</td>\n",
       "      <td>julio</td>\n",
       "      <td>2017</td>\n",
       "      <td>2017-07-15</td>\n",
       "      <td>1674.0</td>\n",
       "      <td>629.0</td>\n",
       "      <td>571.0</td>\n",
       "    </tr>\n",
       "    <tr>\n",
       "      <th>1338</th>\n",
       "      <td>domingo</td>\n",
       "      <td>16</td>\n",
       "      <td>julio</td>\n",
       "      <td>2017</td>\n",
       "      <td>2017-07-16</td>\n",
       "      <td>3013.0</td>\n",
       "      <td>600.0</td>\n",
       "      <td>679.0</td>\n",
       "    </tr>\n",
       "    <tr>\n",
       "      <th>1339</th>\n",
       "      <td>lunes</td>\n",
       "      <td>17</td>\n",
       "      <td>julio</td>\n",
       "      <td>2017</td>\n",
       "      <td>2017-07-17</td>\n",
       "      <td>1061.0</td>\n",
       "      <td>926.0</td>\n",
       "      <td>1077.0</td>\n",
       "    </tr>\n",
       "    <tr>\n",
       "      <th>1340</th>\n",
       "      <td>martes</td>\n",
       "      <td>18</td>\n",
       "      <td>julio</td>\n",
       "      <td>2017</td>\n",
       "      <td>2017-07-18</td>\n",
       "      <td>17327.0</td>\n",
       "      <td>914.0</td>\n",
       "      <td>1111.0</td>\n",
       "    </tr>\n",
       "    <tr>\n",
       "      <th>1341</th>\n",
       "      <td>miercoles</td>\n",
       "      <td>19</td>\n",
       "      <td>julio</td>\n",
       "      <td>2017</td>\n",
       "      <td>2017-07-19</td>\n",
       "      <td>NaN</td>\n",
       "      <td>1017.0</td>\n",
       "      <td>1061.0</td>\n",
       "    </tr>\n",
       "    <tr>\n",
       "      <th>1342</th>\n",
       "      <td>jueves</td>\n",
       "      <td>20</td>\n",
       "      <td>julio</td>\n",
       "      <td>2017</td>\n",
       "      <td>2017-07-20</td>\n",
       "      <td>NaN</td>\n",
       "      <td>959.0</td>\n",
       "      <td>1081.0</td>\n",
       "    </tr>\n",
       "    <tr>\n",
       "      <th>1343</th>\n",
       "      <td>viernes</td>\n",
       "      <td>21</td>\n",
       "      <td>julio</td>\n",
       "      <td>2017</td>\n",
       "      <td>2017-07-21</td>\n",
       "      <td>NaN</td>\n",
       "      <td>878.0</td>\n",
       "      <td>963.0</td>\n",
       "    </tr>\n",
       "    <tr>\n",
       "      <th>1344</th>\n",
       "      <td>sabado</td>\n",
       "      <td>22</td>\n",
       "      <td>julio</td>\n",
       "      <td>2017</td>\n",
       "      <td>2017-07-22</td>\n",
       "      <td>NaN</td>\n",
       "      <td>627.0</td>\n",
       "      <td>558.0</td>\n",
       "    </tr>\n",
       "    <tr>\n",
       "      <th>1345</th>\n",
       "      <td>domingo</td>\n",
       "      <td>23</td>\n",
       "      <td>julio</td>\n",
       "      <td>2017</td>\n",
       "      <td>2017-07-23</td>\n",
       "      <td>NaN</td>\n",
       "      <td>423.0</td>\n",
       "      <td>580.0</td>\n",
       "    </tr>\n",
       "  </tbody>\n",
       "</table>\n",
       "</div>"
      ],
      "text/plain": [
       "     Día de la semana  Día    Mes   Año      Fecha  Reforma  Revolución  \\\n",
       "1336          viernes   14  julio  2017 2017-07-14   7291.0      1007.0   \n",
       "1337           sabado   15  julio  2017 2017-07-15   1674.0       629.0   \n",
       "1338          domingo   16  julio  2017 2017-07-16   3013.0       600.0   \n",
       "1339            lunes   17  julio  2017 2017-07-17   1061.0       926.0   \n",
       "1340           martes   18  julio  2017 2017-07-18  17327.0       914.0   \n",
       "1341        miercoles   19  julio  2017 2017-07-19      NaN      1017.0   \n",
       "1342           jueves   20  julio  2017 2017-07-20      NaN       959.0   \n",
       "1343          viernes   21  julio  2017 2017-07-21      NaN       878.0   \n",
       "1344           sabado   22  julio  2017 2017-07-22      NaN       627.0   \n",
       "1345          domingo   23  julio  2017 2017-07-23      NaN       423.0   \n",
       "\n",
       "      Patriotismo  \n",
       "1336       1041.0  \n",
       "1337        571.0  \n",
       "1338        679.0  \n",
       "1339       1077.0  \n",
       "1340       1111.0  \n",
       "1341       1061.0  \n",
       "1342       1081.0  \n",
       "1343        963.0  \n",
       "1344        558.0  \n",
       "1345        580.0  "
      ]
     },
     "execution_count": 25,
     "metadata": {},
     "output_type": "execute_result"
    }
   ],
   "source": [
    "contador.iloc[1336:1346, :]"
   ]
  },
  {
   "cell_type": "markdown",
   "metadata": {},
   "source": [
    "It is unlikely that cyclists simply stoped passing through Reforma, since they were passing through the other counters. Also, the period is too long for it to overlap with, say, a holiday. My hypothesis is that the counter simply stoped working for some reason.\n",
    "\n",
    "The same is probably happening for the final values of the Reforma counter:"
   ]
  },
  {
   "cell_type": "code",
   "execution_count": 26,
   "metadata": {},
   "outputs": [
    {
     "data": {
      "text/html": [
       "<div>\n",
       "<style scoped>\n",
       "    .dataframe tbody tr th:only-of-type {\n",
       "        vertical-align: middle;\n",
       "    }\n",
       "\n",
       "    .dataframe tbody tr th {\n",
       "        vertical-align: top;\n",
       "    }\n",
       "\n",
       "    .dataframe thead th {\n",
       "        text-align: right;\n",
       "    }\n",
       "</style>\n",
       "<table border=\"1\" class=\"dataframe\">\n",
       "  <thead>\n",
       "    <tr style=\"text-align: right;\">\n",
       "      <th></th>\n",
       "      <th>Día de la semana</th>\n",
       "      <th>Día</th>\n",
       "      <th>Mes</th>\n",
       "      <th>Año</th>\n",
       "      <th>Fecha</th>\n",
       "      <th>Reforma</th>\n",
       "      <th>Revolución</th>\n",
       "      <th>Patriotismo</th>\n",
       "    </tr>\n",
       "  </thead>\n",
       "  <tbody>\n",
       "    <tr>\n",
       "      <th>2292</th>\n",
       "      <td>sabado</td>\n",
       "      <td>11</td>\n",
       "      <td>julio</td>\n",
       "      <td>2020</td>\n",
       "      <td>2020-07-11</td>\n",
       "      <td>1913.0</td>\n",
       "      <td>710.0</td>\n",
       "      <td>674.0</td>\n",
       "    </tr>\n",
       "    <tr>\n",
       "      <th>2293</th>\n",
       "      <td>domingo</td>\n",
       "      <td>12</td>\n",
       "      <td>julio</td>\n",
       "      <td>2020</td>\n",
       "      <td>2020-07-12</td>\n",
       "      <td>2550.0</td>\n",
       "      <td>605.0</td>\n",
       "      <td>814.0</td>\n",
       "    </tr>\n",
       "    <tr>\n",
       "      <th>2294</th>\n",
       "      <td>lunes</td>\n",
       "      <td>13</td>\n",
       "      <td>julio</td>\n",
       "      <td>2020</td>\n",
       "      <td>2020-07-13</td>\n",
       "      <td>1835.0</td>\n",
       "      <td>711.0</td>\n",
       "      <td>565.0</td>\n",
       "    </tr>\n",
       "    <tr>\n",
       "      <th>2295</th>\n",
       "      <td>martes</td>\n",
       "      <td>14</td>\n",
       "      <td>julio</td>\n",
       "      <td>2020</td>\n",
       "      <td>2020-07-14</td>\n",
       "      <td>1782.0</td>\n",
       "      <td>774.0</td>\n",
       "      <td>627.0</td>\n",
       "    </tr>\n",
       "    <tr>\n",
       "      <th>2296</th>\n",
       "      <td>miercoles</td>\n",
       "      <td>15</td>\n",
       "      <td>julio</td>\n",
       "      <td>2020</td>\n",
       "      <td>2020-07-15</td>\n",
       "      <td>2008.0</td>\n",
       "      <td>738.0</td>\n",
       "      <td>643.0</td>\n",
       "    </tr>\n",
       "  </tbody>\n",
       "</table>\n",
       "</div>"
      ],
      "text/plain": [
       "     Día de la semana  Día    Mes   Año      Fecha  Reforma  Revolución  \\\n",
       "2292           sabado   11  julio  2020 2020-07-11   1913.0       710.0   \n",
       "2293          domingo   12  julio  2020 2020-07-12   2550.0       605.0   \n",
       "2294            lunes   13  julio  2020 2020-07-13   1835.0       711.0   \n",
       "2295           martes   14  julio  2020 2020-07-14   1782.0       774.0   \n",
       "2296        miercoles   15  julio  2020 2020-07-15   2008.0       738.0   \n",
       "\n",
       "      Patriotismo  \n",
       "2292        674.0  \n",
       "2293        814.0  \n",
       "2294        565.0  \n",
       "2295        627.0  \n",
       "2296        643.0  "
      ]
     },
     "execution_count": 26,
     "metadata": {},
     "output_type": "execute_result"
    }
   ],
   "source": [
    "contador[contador['Reforma'].notnull()].tail()"
   ]
  },
  {
   "cell_type": "code",
   "execution_count": 27,
   "metadata": {},
   "outputs": [
    {
     "data": {
      "text/html": [
       "<div>\n",
       "<style scoped>\n",
       "    .dataframe tbody tr th:only-of-type {\n",
       "        vertical-align: middle;\n",
       "    }\n",
       "\n",
       "    .dataframe tbody tr th {\n",
       "        vertical-align: top;\n",
       "    }\n",
       "\n",
       "    .dataframe thead th {\n",
       "        text-align: right;\n",
       "    }\n",
       "</style>\n",
       "<table border=\"1\" class=\"dataframe\">\n",
       "  <thead>\n",
       "    <tr style=\"text-align: right;\">\n",
       "      <th></th>\n",
       "      <th>Día de la semana</th>\n",
       "      <th>Día</th>\n",
       "      <th>Mes</th>\n",
       "      <th>Año</th>\n",
       "      <th>Fecha</th>\n",
       "      <th>Reforma</th>\n",
       "      <th>Revolución</th>\n",
       "      <th>Patriotismo</th>\n",
       "    </tr>\n",
       "  </thead>\n",
       "  <tbody>\n",
       "    <tr>\n",
       "      <th>2293</th>\n",
       "      <td>domingo</td>\n",
       "      <td>12</td>\n",
       "      <td>julio</td>\n",
       "      <td>2020</td>\n",
       "      <td>2020-07-12</td>\n",
       "      <td>2550.0</td>\n",
       "      <td>605.0</td>\n",
       "      <td>814.0</td>\n",
       "    </tr>\n",
       "    <tr>\n",
       "      <th>2294</th>\n",
       "      <td>lunes</td>\n",
       "      <td>13</td>\n",
       "      <td>julio</td>\n",
       "      <td>2020</td>\n",
       "      <td>2020-07-13</td>\n",
       "      <td>1835.0</td>\n",
       "      <td>711.0</td>\n",
       "      <td>565.0</td>\n",
       "    </tr>\n",
       "    <tr>\n",
       "      <th>2295</th>\n",
       "      <td>martes</td>\n",
       "      <td>14</td>\n",
       "      <td>julio</td>\n",
       "      <td>2020</td>\n",
       "      <td>2020-07-14</td>\n",
       "      <td>1782.0</td>\n",
       "      <td>774.0</td>\n",
       "      <td>627.0</td>\n",
       "    </tr>\n",
       "    <tr>\n",
       "      <th>2296</th>\n",
       "      <td>miercoles</td>\n",
       "      <td>15</td>\n",
       "      <td>julio</td>\n",
       "      <td>2020</td>\n",
       "      <td>2020-07-15</td>\n",
       "      <td>2008.0</td>\n",
       "      <td>738.0</td>\n",
       "      <td>643.0</td>\n",
       "    </tr>\n",
       "    <tr>\n",
       "      <th>2297</th>\n",
       "      <td>jueves</td>\n",
       "      <td>16</td>\n",
       "      <td>julio</td>\n",
       "      <td>2020</td>\n",
       "      <td>2020-07-16</td>\n",
       "      <td>NaN</td>\n",
       "      <td>749.0</td>\n",
       "      <td>693.0</td>\n",
       "    </tr>\n",
       "    <tr>\n",
       "      <th>2298</th>\n",
       "      <td>viernes</td>\n",
       "      <td>17</td>\n",
       "      <td>julio</td>\n",
       "      <td>2020</td>\n",
       "      <td>2020-07-17</td>\n",
       "      <td>NaN</td>\n",
       "      <td>858.0</td>\n",
       "      <td>697.0</td>\n",
       "    </tr>\n",
       "    <tr>\n",
       "      <th>2299</th>\n",
       "      <td>sabado</td>\n",
       "      <td>18</td>\n",
       "      <td>julio</td>\n",
       "      <td>2020</td>\n",
       "      <td>2020-07-18</td>\n",
       "      <td>NaN</td>\n",
       "      <td>706.0</td>\n",
       "      <td>686.0</td>\n",
       "    </tr>\n",
       "    <tr>\n",
       "      <th>2300</th>\n",
       "      <td>domingo</td>\n",
       "      <td>19</td>\n",
       "      <td>julio</td>\n",
       "      <td>2020</td>\n",
       "      <td>2020-07-19</td>\n",
       "      <td>NaN</td>\n",
       "      <td>634.0</td>\n",
       "      <td>878.0</td>\n",
       "    </tr>\n",
       "    <tr>\n",
       "      <th>2301</th>\n",
       "      <td>lunes</td>\n",
       "      <td>20</td>\n",
       "      <td>julio</td>\n",
       "      <td>2020</td>\n",
       "      <td>2020-07-20</td>\n",
       "      <td>NaN</td>\n",
       "      <td>750.0</td>\n",
       "      <td>581.0</td>\n",
       "    </tr>\n",
       "    <tr>\n",
       "      <th>2302</th>\n",
       "      <td>martes</td>\n",
       "      <td>21</td>\n",
       "      <td>julio</td>\n",
       "      <td>2020</td>\n",
       "      <td>2020-07-21</td>\n",
       "      <td>NaN</td>\n",
       "      <td>802.0</td>\n",
       "      <td>676.0</td>\n",
       "    </tr>\n",
       "    <tr>\n",
       "      <th>2303</th>\n",
       "      <td>miercoles</td>\n",
       "      <td>22</td>\n",
       "      <td>julio</td>\n",
       "      <td>2020</td>\n",
       "      <td>2020-07-22</td>\n",
       "      <td>NaN</td>\n",
       "      <td>832.0</td>\n",
       "      <td>710.0</td>\n",
       "    </tr>\n",
       "  </tbody>\n",
       "</table>\n",
       "</div>"
      ],
      "text/plain": [
       "     Día de la semana  Día    Mes   Año      Fecha  Reforma  Revolución  \\\n",
       "2293          domingo   12  julio  2020 2020-07-12   2550.0       605.0   \n",
       "2294            lunes   13  julio  2020 2020-07-13   1835.0       711.0   \n",
       "2295           martes   14  julio  2020 2020-07-14   1782.0       774.0   \n",
       "2296        miercoles   15  julio  2020 2020-07-15   2008.0       738.0   \n",
       "2297           jueves   16  julio  2020 2020-07-16      NaN       749.0   \n",
       "2298          viernes   17  julio  2020 2020-07-17      NaN       858.0   \n",
       "2299           sabado   18  julio  2020 2020-07-18      NaN       706.0   \n",
       "2300          domingo   19  julio  2020 2020-07-19      NaN       634.0   \n",
       "2301            lunes   20  julio  2020 2020-07-20      NaN       750.0   \n",
       "2302           martes   21  julio  2020 2020-07-21      NaN       802.0   \n",
       "2303        miercoles   22  julio  2020 2020-07-22      NaN       832.0   \n",
       "\n",
       "      Patriotismo  \n",
       "2293        814.0  \n",
       "2294        565.0  \n",
       "2295        627.0  \n",
       "2296        643.0  \n",
       "2297        693.0  \n",
       "2298        697.0  \n",
       "2299        686.0  \n",
       "2300        878.0  \n",
       "2301        581.0  \n",
       "2302        676.0  \n",
       "2303        710.0  "
      ]
     },
     "execution_count": 27,
     "metadata": {},
     "output_type": "execute_result"
    }
   ],
   "source": [
    "contador.iloc[2293:2304, :]"
   ]
  },
  {
   "cell_type": "markdown",
   "metadata": {},
   "source": [
    "Indeed, the counter stops abruptly, while the other counters keep going without any problem. "
   ]
  },
  {
   "cell_type": "markdown",
   "metadata": {},
   "source": [
    "To handle these missing value, I will use the **mean of the past month's corresponding day**. So, for example, if a value is missing on Sunday of July 2020 , I will replace it with the average of all Sundays from June 2020. I believe this gives us the best approximation. \n",
    "\n",
    "I discarded other alternatives because:\n",
    "- Using the _global average or the mode_ would be misleading, since the number of cyclists over time will probably fluctuate.\n",
    "- _Dropping_ the missing values would alter the total cyclists in a given year since the nulls are clustered in certain areas.\n",
    "- Using a _forward fill_ (that is, populating with the last valid observation) would be innaccurate, since each day will probably have different number of cyclists (see graph below). Also, in the previous linechart, we saw a spike in the counter just before the missing values, so it would populate with this outlier values. "
   ]
  },
  {
   "cell_type": "code",
   "execution_count": 28,
   "metadata": {},
   "outputs": [
    {
     "data": {
      "image/png": "[encoded data removed]",
      "text/plain": [
       "<Figure size 720x288 with 2 Axes>"
      ]
     },
     "metadata": {},
     "output_type": "display_data"
    }
   ],
   "source": [
    "sns.heatmap(contador.groupby('Día de la semana')[['Reforma', 'Revolución', 'Patriotismo']].mean(), cmap='Blues');"
   ]
  },
  {
   "cell_type": "markdown",
   "metadata": {},
   "source": [
    "Indeed, weekends tend to be much less crowded.\n",
    "Therefore, let's use the mean of the past month's corresponding day."
   ]
  },
  {
   "cell_type": "code",
   "execution_count": 29,
   "metadata": {},
   "outputs": [
    {
     "name": "stderr",
     "output_type": "stream",
     "text": [
      "<ipython-input-29-7d520ddacd05>:2: FutureWarning: Indexing with multiple keys (implicitly converted to a tuple of keys) will be deprecated, use a list instead.\n",
      "  means = pd.DataFrame(contador.groupby([ 'Año', 'Mes', 'Día de la semana'])['Reforma' ,'Revolución', 'Patriotismo'].mean()).sort_index().reset_index()\n"
     ]
    },
    {
     "data": {
      "text/html": [
       "<div>\n",
       "<style scoped>\n",
       "    .dataframe tbody tr th:only-of-type {\n",
       "        vertical-align: middle;\n",
       "    }\n",
       "\n",
       "    .dataframe tbody tr th {\n",
       "        vertical-align: top;\n",
       "    }\n",
       "\n",
       "    .dataframe thead th {\n",
       "        text-align: right;\n",
       "    }\n",
       "</style>\n",
       "<table border=\"1\" class=\"dataframe\">\n",
       "  <thead>\n",
       "    <tr style=\"text-align: right;\">\n",
       "      <th></th>\n",
       "      <th>Año</th>\n",
       "      <th>Mes</th>\n",
       "      <th>Día de la semana</th>\n",
       "      <th>Reforma</th>\n",
       "      <th>Revolución</th>\n",
       "      <th>Patriotismo</th>\n",
       "    </tr>\n",
       "  </thead>\n",
       "  <tbody>\n",
       "    <tr>\n",
       "      <th>0</th>\n",
       "      <td>2013</td>\n",
       "      <td>diciembre</td>\n",
       "      <td>domingo</td>\n",
       "      <td>1004.00</td>\n",
       "      <td>0.00</td>\n",
       "      <td>0.00</td>\n",
       "    </tr>\n",
       "    <tr>\n",
       "      <th>1</th>\n",
       "      <td>2013</td>\n",
       "      <td>diciembre</td>\n",
       "      <td>jueves</td>\n",
       "      <td>2044.00</td>\n",
       "      <td>0.00</td>\n",
       "      <td>0.00</td>\n",
       "    </tr>\n",
       "    <tr>\n",
       "      <th>2</th>\n",
       "      <td>2013</td>\n",
       "      <td>diciembre</td>\n",
       "      <td>lunes</td>\n",
       "      <td>1916.40</td>\n",
       "      <td>0.00</td>\n",
       "      <td>0.00</td>\n",
       "    </tr>\n",
       "    <tr>\n",
       "      <th>3</th>\n",
       "      <td>2013</td>\n",
       "      <td>diciembre</td>\n",
       "      <td>martes</td>\n",
       "      <td>1530.20</td>\n",
       "      <td>0.00</td>\n",
       "      <td>0.00</td>\n",
       "    </tr>\n",
       "    <tr>\n",
       "      <th>4</th>\n",
       "      <td>2013</td>\n",
       "      <td>diciembre</td>\n",
       "      <td>miercoles</td>\n",
       "      <td>1984.25</td>\n",
       "      <td>0.00</td>\n",
       "      <td>0.00</td>\n",
       "    </tr>\n",
       "    <tr>\n",
       "      <th>...</th>\n",
       "      <td>...</td>\n",
       "      <td>...</td>\n",
       "      <td>...</td>\n",
       "      <td>...</td>\n",
       "      <td>...</td>\n",
       "      <td>...</td>\n",
       "    </tr>\n",
       "    <tr>\n",
       "      <th>583</th>\n",
       "      <td>2021</td>\n",
       "      <td>febrero</td>\n",
       "      <td>lunes</td>\n",
       "      <td>NaN</td>\n",
       "      <td>482.25</td>\n",
       "      <td>627.75</td>\n",
       "    </tr>\n",
       "    <tr>\n",
       "      <th>584</th>\n",
       "      <td>2021</td>\n",
       "      <td>febrero</td>\n",
       "      <td>martes</td>\n",
       "      <td>NaN</td>\n",
       "      <td>481.50</td>\n",
       "      <td>708.50</td>\n",
       "    </tr>\n",
       "    <tr>\n",
       "      <th>585</th>\n",
       "      <td>2021</td>\n",
       "      <td>febrero</td>\n",
       "      <td>miercoles</td>\n",
       "      <td>NaN</td>\n",
       "      <td>446.75</td>\n",
       "      <td>716.00</td>\n",
       "    </tr>\n",
       "    <tr>\n",
       "      <th>586</th>\n",
       "      <td>2021</td>\n",
       "      <td>febrero</td>\n",
       "      <td>sabado</td>\n",
       "      <td>NaN</td>\n",
       "      <td>460.00</td>\n",
       "      <td>772.25</td>\n",
       "    </tr>\n",
       "    <tr>\n",
       "      <th>587</th>\n",
       "      <td>2021</td>\n",
       "      <td>febrero</td>\n",
       "      <td>viernes</td>\n",
       "      <td>NaN</td>\n",
       "      <td>567.25</td>\n",
       "      <td>745.50</td>\n",
       "    </tr>\n",
       "  </tbody>\n",
       "</table>\n",
       "<p>588 rows × 6 columns</p>\n",
       "</div>"
      ],
      "text/plain": [
       "      Año        Mes Día de la semana  Reforma  Revolución  Patriotismo\n",
       "0    2013  diciembre          domingo  1004.00        0.00         0.00\n",
       "1    2013  diciembre           jueves  2044.00        0.00         0.00\n",
       "2    2013  diciembre            lunes  1916.40        0.00         0.00\n",
       "3    2013  diciembre           martes  1530.20        0.00         0.00\n",
       "4    2013  diciembre        miercoles  1984.25        0.00         0.00\n",
       "..    ...        ...              ...      ...         ...          ...\n",
       "583  2021    febrero            lunes      NaN      482.25       627.75\n",
       "584  2021    febrero           martes      NaN      481.50       708.50\n",
       "585  2021    febrero        miercoles      NaN      446.75       716.00\n",
       "586  2021    febrero           sabado      NaN      460.00       772.25\n",
       "587  2021    febrero          viernes      NaN      567.25       745.50\n",
       "\n",
       "[588 rows x 6 columns]"
      ]
     },
     "execution_count": 29,
     "metadata": {},
     "output_type": "execute_result"
    }
   ],
   "source": [
    "# Calculate mean of each day of each month and year. \n",
    "means = pd.DataFrame(contador.groupby([ 'Año', 'Mes', 'Día de la semana'])['Reforma' ,'Revolución', 'Patriotismo'].mean()).sort_index().reset_index()\n",
    "means"
   ]
  },
  {
   "cell_type": "code",
   "execution_count": 30,
   "metadata": {},
   "outputs": [
    {
     "data": {
      "text/html": [
       "<div>\n",
       "<style scoped>\n",
       "    .dataframe tbody tr th:only-of-type {\n",
       "        vertical-align: middle;\n",
       "    }\n",
       "\n",
       "    .dataframe tbody tr th {\n",
       "        vertical-align: top;\n",
       "    }\n",
       "\n",
       "    .dataframe thead th {\n",
       "        text-align: right;\n",
       "    }\n",
       "</style>\n",
       "<table border=\"1\" class=\"dataframe\">\n",
       "  <thead>\n",
       "    <tr style=\"text-align: right;\">\n",
       "      <th></th>\n",
       "      <th>Día de la semana</th>\n",
       "      <th>Día</th>\n",
       "      <th>Mes</th>\n",
       "      <th>Año</th>\n",
       "      <th>Fecha</th>\n",
       "      <th>Reforma</th>\n",
       "      <th>Revolución</th>\n",
       "      <th>Patriotismo</th>\n",
       "    </tr>\n",
       "  </thead>\n",
       "  <tbody>\n",
       "    <tr>\n",
       "      <th>0</th>\n",
       "      <td>sabado</td>\n",
       "      <td>16</td>\n",
       "      <td>noviembre</td>\n",
       "      <td>2013</td>\n",
       "      <td>2013-11-16</td>\n",
       "      <td>613.0</td>\n",
       "      <td>0.0</td>\n",
       "      <td>0.0</td>\n",
       "    </tr>\n",
       "    <tr>\n",
       "      <th>1</th>\n",
       "      <td>domingo</td>\n",
       "      <td>17</td>\n",
       "      <td>noviembre</td>\n",
       "      <td>2013</td>\n",
       "      <td>2013-11-17</td>\n",
       "      <td>1084.0</td>\n",
       "      <td>0.0</td>\n",
       "      <td>0.0</td>\n",
       "    </tr>\n",
       "    <tr>\n",
       "      <th>2</th>\n",
       "      <td>lunes</td>\n",
       "      <td>18</td>\n",
       "      <td>noviembre</td>\n",
       "      <td>2013</td>\n",
       "      <td>2013-11-18</td>\n",
       "      <td>1073.0</td>\n",
       "      <td>0.0</td>\n",
       "      <td>0.0</td>\n",
       "    </tr>\n",
       "  </tbody>\n",
       "</table>\n",
       "</div>"
      ],
      "text/plain": [
       "  Día de la semana  Día        Mes   Año      Fecha  Reforma  Revolución  \\\n",
       "0           sabado   16  noviembre  2013 2013-11-16    613.0         0.0   \n",
       "1          domingo   17  noviembre  2013 2013-11-17   1084.0         0.0   \n",
       "2            lunes   18  noviembre  2013 2013-11-18   1073.0         0.0   \n",
       "\n",
       "   Patriotismo  \n",
       "0          0.0  \n",
       "1          0.0  \n",
       "2          0.0  "
      ]
     },
     "execution_count": 30,
     "metadata": {},
     "output_type": "execute_result"
    }
   ],
   "source": [
    "contador.head(3)"
   ]
  },
  {
   "cell_type": "code",
   "execution_count": 31,
   "metadata": {},
   "outputs": [],
   "source": [
    "# Define list of months and counters\n",
    "months = ['enero','febrero','marzo','abril','mayo','junio','julio','agosto','septiembre','octubre','noviembre',\n",
    " 'diciembre']\n",
    "counters = ['Reforma', 'Revolución', 'Patriotismo']"
   ]
  },
  {
   "cell_type": "markdown",
   "metadata": {},
   "source": [
    "The following block of code substitutes the missing values. However, we should be wary of using any means in the month of July 2017, since we got outlier values in that month. For those cases, we could use the values for June 2017."
   ]
  },
  {
   "cell_type": "code",
   "execution_count": 32,
   "metadata": {},
   "outputs": [
    {
     "name": "stdout",
     "output_type": "stream",
     "text": [
      "- Value: 2644.0 | Reforma | 1341 | Year: 2017 | Av. Month: junio | Month: julio | Day: miercoles\n",
      "- Value: 2947.0 | Reforma | 1342 | Year: 2017 | Av. Month: junio | Month: julio | Day: jueves\n",
      "- Value: 2929.6 | Reforma | 1343 | Year: 2017 | Av. Month: junio | Month: julio | Day: viernes\n",
      "- Value: 1099.25 | Reforma | 1344 | Year: 2017 | Av. Month: junio | Month: julio | Day: sabado\n",
      "- Value: 1157.5 | Reforma | 1345 | Year: 2017 | Av. Month: junio | Month: julio | Day: domingo\n",
      "- Value: 2129.75 | Reforma | 1346 | Year: 2017 | Av. Month: junio | Month: julio | Day: lunes\n",
      "- Value: 2104.5 | Reforma | 1347 | Year: 2017 | Av. Month: junio | Month: julio | Day: martes\n",
      "- Value: 2644.0 | Reforma | 1348 | Year: 2017 | Av. Month: junio | Month: julio | Day: miercoles\n",
      "- Value: 2947.0 | Reforma | 1349 | Year: 2017 | Av. Month: junio | Month: julio | Day: jueves\n",
      "- Value: 2929.6 | Reforma | 1350 | Year: 2017 | Av. Month: junio | Month: julio | Day: viernes\n",
      "- Value: 1099.25 | Reforma | 1351 | Year: 2017 | Av. Month: junio | Month: julio | Day: sabado\n",
      "- Value: 1157.5 | Reforma | 1352 | Year: 2017 | Av. Month: junio | Month: julio | Day: domingo\n",
      "- Value: 2129.75 | Reforma | 1353 | Year: 2017 | Av. Month: junio | Month: julio | Day: lunes\n",
      "- Value: 2104.5 | Reforma | 1354 | Year: 2017 | Av. Month: junio | Month: agosto | Day: martes\n",
      "- Value: 2644.0 | Reforma | 1355 | Year: 2017 | Av. Month: junio | Month: agosto | Day: miercoles\n",
      "- Value: 2947.0 | Reforma | 1356 | Year: 2017 | Av. Month: junio | Month: agosto | Day: jueves\n",
      "- Value: 2929.6 | Reforma | 1357 | Year: 2017 | Av. Month: junio | Month: agosto | Day: viernes\n",
      "- Value: 1099.25 | Reforma | 1358 | Year: 2017 | Av. Month: junio | Month: agosto | Day: sabado\n",
      "- Value: 1157.5 | Reforma | 1359 | Year: 2017 | Av. Month: junio | Month: agosto | Day: domingo\n",
      "- Value: 2129.75 | Reforma | 1360 | Year: 2017 | Av. Month: junio | Month: agosto | Day: lunes\n",
      "- Value: 2104.5 | Reforma | 1361 | Year: 2017 | Av. Month: junio | Month: agosto | Day: martes\n",
      "- Value: 2644.0 | Reforma | 1362 | Year: 2017 | Av. Month: junio | Month: agosto | Day: miercoles\n",
      "- Value: 2947.0 | Reforma | 1363 | Year: 2017 | Av. Month: junio | Month: agosto | Day: jueves\n",
      "- Value: 2929.6 | Reforma | 1364 | Year: 2017 | Av. Month: junio | Month: agosto | Day: viernes\n",
      "- Value: 1099.25 | Reforma | 1365 | Year: 2017 | Av. Month: junio | Month: agosto | Day: sabado\n",
      "- Value: 1157.5 | Reforma | 1366 | Year: 2017 | Av. Month: junio | Month: agosto | Day: domingo\n",
      "- Value: 2129.75 | Reforma | 1367 | Year: 2017 | Av. Month: junio | Month: agosto | Day: lunes\n",
      "- Value: 2104.5 | Reforma | 1368 | Year: 2017 | Av. Month: junio | Month: agosto | Day: martes\n",
      "- Value: 2644.0 | Reforma | 1369 | Year: 2017 | Av. Month: junio | Month: agosto | Day: miercoles\n",
      "- Value: 2947.0 | Reforma | 1370 | Year: 2017 | Av. Month: junio | Month: agosto | Day: jueves\n",
      "- Value: 2929.6 | Reforma | 1371 | Year: 2017 | Av. Month: junio | Month: agosto | Day: viernes\n",
      "- Value: 1099.25 | Reforma | 1372 | Year: 2017 | Av. Month: junio | Month: agosto | Day: sabado\n",
      "- Value: 1157.5 | Reforma | 1373 | Year: 2017 | Av. Month: junio | Month: agosto | Day: domingo\n",
      "- Value: 2129.75 | Reforma | 1374 | Year: 2017 | Av. Month: junio | Month: agosto | Day: lunes\n",
      "- Value: 2104.5 | Reforma | 1375 | Year: 2017 | Av. Month: junio | Month: agosto | Day: martes\n",
      "- Value: 2644.0 | Reforma | 1376 | Year: 2017 | Av. Month: junio | Month: agosto | Day: miercoles\n",
      "- Value: 2947.0 | Reforma | 1377 | Year: 2017 | Av. Month: junio | Month: agosto | Day: jueves\n",
      "- Value: 2929.6 | Reforma | 1378 | Year: 2017 | Av. Month: junio | Month: agosto | Day: viernes\n",
      "- Value: 1099.25 | Reforma | 1379 | Year: 2017 | Av. Month: junio | Month: agosto | Day: sabado\n",
      "- Value: 1157.5 | Reforma | 1380 | Year: 2017 | Av. Month: junio | Month: agosto | Day: domingo\n",
      "- Value: 2129.75 | Reforma | 1381 | Year: 2017 | Av. Month: junio | Month: agosto | Day: lunes\n",
      "- Value: 2104.5 | Reforma | 1382 | Year: 2017 | Av. Month: junio | Month: agosto | Day: martes\n",
      "- Value: 2644.0 | Reforma | 1383 | Year: 2017 | Av. Month: junio | Month: agosto | Day: miercoles\n",
      "- Value: 2947.0 | Reforma | 1384 | Year: 2017 | Av. Month: junio | Month: agosto | Day: jueves\n",
      "- Value: 2929.6 | Reforma | 1385 | Year: 2017 | Av. Month: junio | Month: septiembre | Day: viernes\n",
      "- Value: 1099.25 | Reforma | 1386 | Year: 2017 | Av. Month: junio | Month: septiembre | Day: sabado\n",
      "- Value: 1157.5 | Reforma | 1387 | Year: 2017 | Av. Month: junio | Month: septiembre | Day: domingo\n",
      "- Value: 2129.75 | Reforma | 1388 | Year: 2017 | Av. Month: junio | Month: septiembre | Day: lunes\n",
      "- Value: 2104.5 | Reforma | 1389 | Year: 2017 | Av. Month: junio | Month: septiembre | Day: martes\n",
      "- Value: 2644.0 | Reforma | 1390 | Year: 2017 | Av. Month: junio | Month: septiembre | Day: miercoles\n",
      "- Value: 2947.0 | Reforma | 1391 | Year: 2017 | Av. Month: junio | Month: septiembre | Day: jueves\n",
      "- Value: 2929.6 | Reforma | 1392 | Year: 2017 | Av. Month: junio | Month: septiembre | Day: viernes\n",
      "- Value: 1099.25 | Reforma | 1393 | Year: 2017 | Av. Month: junio | Month: septiembre | Day: sabado\n",
      "- Value: 1157.5 | Reforma | 1394 | Year: 2017 | Av. Month: junio | Month: septiembre | Day: domingo\n",
      "- Value: 2129.75 | Reforma | 1395 | Year: 2017 | Av. Month: junio | Month: septiembre | Day: lunes\n",
      "- Value: 2104.5 | Reforma | 1396 | Year: 2017 | Av. Month: junio | Month: septiembre | Day: martes\n",
      "- Value: 2644.0 | Reforma | 1397 | Year: 2017 | Av. Month: junio | Month: septiembre | Day: miercoles\n",
      "- Value: 2947.0 | Reforma | 1398 | Year: 2017 | Av. Month: junio | Month: septiembre | Day: jueves\n",
      "- Value: 2929.6 | Reforma | 1399 | Year: 2017 | Av. Month: junio | Month: septiembre | Day: viernes\n",
      "- Value: 1099.25 | Reforma | 1400 | Year: 2017 | Av. Month: junio | Month: septiembre | Day: sabado\n",
      "- Value: 1157.5 | Reforma | 1401 | Year: 2017 | Av. Month: junio | Month: septiembre | Day: domingo\n",
      "- Value: 2129.75 | Reforma | 1402 | Year: 2017 | Av. Month: junio | Month: septiembre | Day: lunes\n",
      "- Value: 2104.5 | Reforma | 1403 | Year: 2017 | Av. Month: junio | Month: septiembre | Day: martes\n",
      "- Value: 2644.0 | Reforma | 1404 | Year: 2017 | Av. Month: junio | Month: septiembre | Day: miercoles\n",
      "- Value: 2947.0 | Reforma | 1405 | Year: 2017 | Av. Month: junio | Month: septiembre | Day: jueves\n",
      "- Value: 2929.6 | Reforma | 1406 | Year: 2017 | Av. Month: junio | Month: septiembre | Day: viernes\n",
      "- Value: 1099.25 | Reforma | 1407 | Year: 2017 | Av. Month: junio | Month: septiembre | Day: sabado\n",
      "- Value: 1157.5 | Reforma | 1408 | Year: 2017 | Av. Month: junio | Month: septiembre | Day: domingo\n",
      "- Value: 2129.75 | Reforma | 1409 | Year: 2017 | Av. Month: junio | Month: septiembre | Day: lunes\n",
      "- Value: 2104.5 | Reforma | 1410 | Year: 2017 | Av. Month: junio | Month: septiembre | Day: martes\n",
      "- Value: 2644.0 | Reforma | 1411 | Year: 2017 | Av. Month: junio | Month: septiembre | Day: miercoles\n",
      "- Value: 2947.0 | Reforma | 1412 | Year: 2017 | Av. Month: junio | Month: septiembre | Day: jueves\n",
      "- Value: 2929.6 | Reforma | 1413 | Year: 2017 | Av. Month: junio | Month: septiembre | Day: viernes\n",
      "- Value: 1099.25 | Reforma | 1414 | Year: 2017 | Av. Month: junio | Month: septiembre | Day: sabado\n",
      "- Value: 1157.5 | Reforma | 1415 | Year: 2017 | Av. Month: junio | Month: octubre | Day: domingo\n",
      "- Value: 2129.75 | Reforma | 1416 | Year: 2017 | Av. Month: junio | Month: octubre | Day: lunes\n",
      "- Value: 2104.5 | Reforma | 1417 | Year: 2017 | Av. Month: junio | Month: octubre | Day: martes\n",
      "- Value: 2644.0 | Reforma | 1418 | Year: 2017 | Av. Month: junio | Month: octubre | Day: miercoles\n",
      "- Value: 2947.0 | Reforma | 1419 | Year: 2017 | Av. Month: junio | Month: octubre | Day: jueves\n",
      "- Value: 2929.6 | Reforma | 1420 | Year: 2017 | Av. Month: junio | Month: octubre | Day: viernes\n",
      "- Value: 1099.25 | Reforma | 1421 | Year: 2017 | Av. Month: junio | Month: octubre | Day: sabado\n",
      "- Value: 1157.5 | Reforma | 1422 | Year: 2017 | Av. Month: junio | Month: octubre | Day: domingo\n",
      "- Value: 2129.75 | Reforma | 1423 | Year: 2017 | Av. Month: junio | Month: octubre | Day: lunes\n",
      "- Value: 2104.5 | Reforma | 1424 | Year: 2017 | Av. Month: junio | Month: octubre | Day: martes\n",
      "- Value: 2644.0 | Reforma | 1425 | Year: 2017 | Av. Month: junio | Month: octubre | Day: miercoles\n",
      "- Value: 2947.0 | Reforma | 1426 | Year: 2017 | Av. Month: junio | Month: octubre | Day: jueves\n",
      "- Value: 2929.6 | Reforma | 1427 | Year: 2017 | Av. Month: junio | Month: octubre | Day: viernes\n",
      "- Value: 1099.25 | Reforma | 1428 | Year: 2017 | Av. Month: junio | Month: octubre | Day: sabado\n",
      "- Value: 1157.5 | Reforma | 1429 | Year: 2017 | Av. Month: junio | Month: octubre | Day: domingo\n",
      "- Value: 2129.75 | Reforma | 1430 | Year: 2017 | Av. Month: junio | Month: octubre | Day: lunes\n",
      "- Value: 2104.5 | Reforma | 1431 | Year: 2017 | Av. Month: junio | Month: octubre | Day: martes\n",
      "- Value: 2644.0 | Reforma | 1432 | Year: 2017 | Av. Month: junio | Month: octubre | Day: miercoles\n",
      "- Value: 2947.0 | Reforma | 1433 | Year: 2017 | Av. Month: junio | Month: octubre | Day: jueves\n",
      "- Value: 2929.6 | Reforma | 1434 | Year: 2017 | Av. Month: junio | Month: octubre | Day: viernes\n",
      "- Value: 1099.25 | Reforma | 1435 | Year: 2017 | Av. Month: junio | Month: octubre | Day: sabado\n",
      "- Value: 1157.5 | Reforma | 1436 | Year: 2017 | Av. Month: junio | Month: octubre | Day: domingo\n",
      "- Value: 2129.75 | Reforma | 1437 | Year: 2017 | Av. Month: junio | Month: octubre | Day: lunes\n",
      "- Value: 2104.5 | Reforma | 1438 | Year: 2017 | Av. Month: junio | Month: octubre | Day: martes\n",
      "- Value: 2644.0 | Reforma | 1439 | Year: 2017 | Av. Month: junio | Month: octubre | Day: miercoles\n",
      "- Value: 2947.0 | Reforma | 1440 | Year: 2017 | Av. Month: junio | Month: octubre | Day: jueves\n"
     ]
    },
    {
     "name": "stdout",
     "output_type": "stream",
     "text": [
      "- Value: 2929.6 | Reforma | 1441 | Year: 2017 | Av. Month: junio | Month: octubre | Day: viernes\n",
      "- Value: 1099.25 | Reforma | 1442 | Year: 2017 | Av. Month: junio | Month: octubre | Day: sabado\n",
      "- Value: 1157.5 | Reforma | 1443 | Year: 2017 | Av. Month: junio | Month: octubre | Day: domingo\n",
      "- Value: 2129.75 | Reforma | 1444 | Year: 2017 | Av. Month: junio | Month: octubre | Day: lunes\n",
      "- Value: 3426.4 | Reforma | 1502 | Year: 2017 | Av. Month: noviembre | Month: diciembre | Day: miercoles\n",
      "- Value: 2639.4 | Reforma | 1503 | Year: 2017 | Av. Month: noviembre | Month: diciembre | Day: jueves\n",
      "- Value: 2564.75 | Reforma | 1504 | Year: 2017 | Av. Month: noviembre | Month: diciembre | Day: viernes\n",
      "- Value: 2454.0 | Reforma | 1505 | Year: 2017 | Av. Month: noviembre | Month: diciembre | Day: sabado\n",
      "- Value: 1345.0 | Reforma | 1506 | Year: 2017 | Av. Month: noviembre | Month: diciembre | Day: domingo\n",
      "- Value: 2398.0 | Reforma | 1507 | Year: 2017 | Av. Month: diciembre | Month: enero | Day: lunes\n",
      "- Value: 2260.75 | Reforma | 1508 | Year: 2017 | Av. Month: diciembre | Month: enero | Day: martes\n",
      "- Value: 2163.3333333333335 | Reforma | 1509 | Year: 2017 | Av. Month: diciembre | Month: enero | Day: miercoles\n",
      "- Value: 3055.0 | Reforma | 1510 | Year: 2017 | Av. Month: diciembre | Month: enero | Day: jueves\n",
      "- Value: 2904.5 | Reforma | 1511 | Year: 2017 | Av. Month: diciembre | Month: enero | Day: viernes\n",
      "- Value: 1376.5 | Reforma | 1512 | Year: 2017 | Av. Month: diciembre | Month: enero | Day: sabado\n",
      "- Value: 970.0 | Reforma | 1513 | Year: 2017 | Av. Month: diciembre | Month: enero | Day: domingo\n",
      "- Value: 2398.0 | Reforma | 1514 | Year: 2017 | Av. Month: diciembre | Month: enero | Day: lunes\n",
      "- Value: 2260.75 | Reforma | 1515 | Year: 2017 | Av. Month: diciembre | Month: enero | Day: martes\n",
      "- Value: 2163.3333333333335 | Reforma | 1516 | Year: 2017 | Av. Month: diciembre | Month: enero | Day: miercoles\n",
      "- Value: 3055.0 | Reforma | 1517 | Year: 2017 | Av. Month: diciembre | Month: enero | Day: jueves\n",
      "- Value: 2904.5 | Reforma | 1518 | Year: 2017 | Av. Month: diciembre | Month: enero | Day: viernes\n",
      "- Value: 1376.5 | Reforma | 1519 | Year: 2017 | Av. Month: diciembre | Month: enero | Day: sabado\n",
      "- Value: 970.0 | Reforma | 1520 | Year: 2017 | Av. Month: diciembre | Month: enero | Day: domingo\n",
      "- Value: 2398.0 | Reforma | 1521 | Year: 2017 | Av. Month: diciembre | Month: enero | Day: lunes\n",
      "- Value: 2260.75 | Reforma | 1522 | Year: 2017 | Av. Month: diciembre | Month: enero | Day: martes\n",
      "- Value: 2163.3333333333335 | Reforma | 1523 | Year: 2017 | Av. Month: diciembre | Month: enero | Day: miercoles\n",
      "- Value: 3055.0 | Reforma | 1524 | Year: 2017 | Av. Month: diciembre | Month: enero | Day: jueves\n",
      "- Value: 2904.5 | Reforma | 1525 | Year: 2017 | Av. Month: diciembre | Month: enero | Day: viernes\n",
      "- Value: 1376.5 | Reforma | 1526 | Year: 2017 | Av. Month: diciembre | Month: enero | Day: sabado\n",
      "- Value: 970.0 | Reforma | 1527 | Year: 2017 | Av. Month: diciembre | Month: enero | Day: domingo\n",
      "- Value: 2398.0 | Reforma | 1528 | Year: 2017 | Av. Month: diciembre | Month: enero | Day: lunes\n",
      "- Value: 2260.75 | Reforma | 1529 | Year: 2017 | Av. Month: diciembre | Month: enero | Day: martes\n",
      "- Value: 2163.3333333333335 | Reforma | 1530 | Year: 2017 | Av. Month: diciembre | Month: enero | Day: miercoles\n",
      "- Value: 3055.0 | Reforma | 1531 | Year: 2017 | Av. Month: diciembre | Month: enero | Day: jueves\n",
      "- Value: 2904.5 | Reforma | 1532 | Year: 2017 | Av. Month: diciembre | Month: enero | Day: viernes\n",
      "- Value: 1376.5 | Reforma | 1533 | Year: 2017 | Av. Month: diciembre | Month: enero | Day: sabado\n",
      "- Value: 970.0 | Reforma | 1534 | Year: 2017 | Av. Month: diciembre | Month: enero | Day: domingo\n",
      "- Value: 2398.0 | Reforma | 1535 | Year: 2017 | Av. Month: diciembre | Month: enero | Day: lunes\n",
      "- Value: 2260.75 | Reforma | 1536 | Year: 2017 | Av. Month: diciembre | Month: enero | Day: martes\n",
      "- Value: 2163.3333333333335 | Reforma | 1537 | Year: 2017 | Av. Month: diciembre | Month: enero | Day: miercoles\n",
      "- Value: 2724.0 | Reforma | 1725 | Year: 2018 | Av. Month: junio | Month: agosto | Day: martes\n",
      "- Value: 2819.5 | Reforma | 1726 | Year: 2018 | Av. Month: junio | Month: agosto | Day: miercoles\n",
      "- Value: 2586.5 | Reforma | 1727 | Year: 2018 | Av. Month: junio | Month: agosto | Day: jueves\n",
      "- Value: 2748.4 | Reforma | 1728 | Year: 2018 | Av. Month: junio | Month: agosto | Day: viernes\n",
      "- Value: 1375.4 | Reforma | 1729 | Year: 2018 | Av. Month: junio | Month: agosto | Day: sabado\n",
      "- Value: 1535.5 | Reforma | 1730 | Year: 2018 | Av. Month: junio | Month: agosto | Day: domingo\n",
      "- Value: 2029.75 | Reforma | 1731 | Year: 2018 | Av. Month: junio | Month: agosto | Day: lunes\n",
      "- Value: 1735.0 | Reforma | 2297 | Year: 2020 | Av. Month: junio | Month: julio | Day: jueves\n",
      "- Value: 1804.0 | Reforma | 2298 | Year: 2020 | Av. Month: junio | Month: julio | Day: viernes\n",
      "- Value: 1801.75 | Reforma | 2299 | Year: 2020 | Av. Month: junio | Month: julio | Day: sabado\n",
      "- Value: 2312.75 | Reforma | 2300 | Year: 2020 | Av. Month: junio | Month: julio | Day: domingo\n",
      "- Value: 1396.2 | Reforma | 2301 | Year: 2020 | Av. Month: junio | Month: julio | Day: lunes\n",
      "- Value: 1644.6 | Reforma | 2302 | Year: 2020 | Av. Month: junio | Month: julio | Day: martes\n",
      "- Value: 1715.75 | Reforma | 2303 | Year: 2020 | Av. Month: junio | Month: julio | Day: miercoles\n",
      "- Value: 1735.0 | Reforma | 2304 | Year: 2020 | Av. Month: junio | Month: julio | Day: jueves\n",
      "- Value: 1804.0 | Reforma | 2305 | Year: 2020 | Av. Month: junio | Month: julio | Day: viernes\n",
      "- Value: 1801.75 | Reforma | 2306 | Year: 2020 | Av. Month: junio | Month: julio | Day: sabado\n",
      "- Value: 2312.75 | Reforma | 2307 | Year: 2020 | Av. Month: junio | Month: julio | Day: domingo\n",
      "- Value: 1396.2 | Reforma | 2308 | Year: 2020 | Av. Month: junio | Month: julio | Day: lunes\n",
      "- Value: 1644.6 | Reforma | 2309 | Year: 2020 | Av. Month: junio | Month: julio | Day: martes\n",
      "- Value: 1715.75 | Reforma | 2310 | Year: 2020 | Av. Month: junio | Month: julio | Day: miercoles\n",
      "- Value: 1735.0 | Reforma | 2311 | Year: 2020 | Av. Month: junio | Month: julio | Day: jueves\n",
      "- Value: 1804.0 | Reforma | 2312 | Year: 2020 | Av. Month: junio | Month: julio | Day: viernes\n",
      "- Value: 1801.75 | Reforma | 2313 | Year: 2020 | Av. Month: junio | Month: agosto | Day: sabado\n",
      "- Value: 2312.75 | Reforma | 2314 | Year: 2020 | Av. Month: junio | Month: agosto | Day: domingo\n",
      "- Value: 1396.2 | Reforma | 2315 | Year: 2020 | Av. Month: junio | Month: agosto | Day: lunes\n",
      "- Value: 1644.6 | Reforma | 2316 | Year: 2020 | Av. Month: junio | Month: agosto | Day: martes\n",
      "- Value: 1715.75 | Reforma | 2317 | Year: 2020 | Av. Month: junio | Month: agosto | Day: miercoles\n",
      "- Value: 1735.0 | Reforma | 2318 | Year: 2020 | Av. Month: junio | Month: agosto | Day: jueves\n",
      "- Value: 1804.0 | Reforma | 2319 | Year: 2020 | Av. Month: junio | Month: agosto | Day: viernes\n",
      "- Value: 1801.75 | Reforma | 2320 | Year: 2020 | Av. Month: junio | Month: agosto | Day: sabado\n",
      "- Value: 2312.75 | Reforma | 2321 | Year: 2020 | Av. Month: junio | Month: agosto | Day: domingo\n",
      "- Value: 1396.2 | Reforma | 2322 | Year: 2020 | Av. Month: junio | Month: agosto | Day: lunes\n",
      "- Value: 1644.6 | Reforma | 2323 | Year: 2020 | Av. Month: junio | Month: agosto | Day: martes\n",
      "- Value: 1715.75 | Reforma | 2324 | Year: 2020 | Av. Month: junio | Month: agosto | Day: miercoles\n",
      "- Value: 1735.0 | Reforma | 2325 | Year: 2020 | Av. Month: junio | Month: agosto | Day: jueves\n",
      "- Value: 1804.0 | Reforma | 2326 | Year: 2020 | Av. Month: junio | Month: agosto | Day: viernes\n",
      "- Value: 1801.75 | Reforma | 2327 | Year: 2020 | Av. Month: junio | Month: agosto | Day: sabado\n",
      "- Value: 2312.75 | Reforma | 2328 | Year: 2020 | Av. Month: junio | Month: agosto | Day: domingo\n",
      "- Value: 1396.2 | Reforma | 2329 | Year: 2020 | Av. Month: junio | Month: agosto | Day: lunes\n",
      "- Value: 1644.6 | Reforma | 2330 | Year: 2020 | Av. Month: junio | Month: agosto | Day: martes\n",
      "- Value: 1715.75 | Reforma | 2331 | Year: 2020 | Av. Month: junio | Month: agosto | Day: miercoles\n",
      "- Value: 1735.0 | Reforma | 2332 | Year: 2020 | Av. Month: junio | Month: agosto | Day: jueves\n",
      "- Value: 1804.0 | Reforma | 2333 | Year: 2020 | Av. Month: junio | Month: agosto | Day: viernes\n",
      "- Value: 1801.75 | Reforma | 2334 | Year: 2020 | Av. Month: junio | Month: agosto | Day: sabado\n",
      "- Value: 2312.75 | Reforma | 2335 | Year: 2020 | Av. Month: junio | Month: agosto | Day: domingo\n",
      "- Value: 1396.2 | Reforma | 2336 | Year: 2020 | Av. Month: junio | Month: agosto | Day: lunes\n",
      "- Value: 1644.6 | Reforma | 2337 | Year: 2020 | Av. Month: junio | Month: agosto | Day: martes\n",
      "- Value: 1715.75 | Reforma | 2338 | Year: 2020 | Av. Month: junio | Month: agosto | Day: miercoles\n",
      "- Value: 1735.0 | Reforma | 2339 | Year: 2020 | Av. Month: junio | Month: agosto | Day: jueves\n",
      "- Value: 1804.0 | Reforma | 2340 | Year: 2020 | Av. Month: junio | Month: agosto | Day: viernes\n",
      "- Value: 1801.75 | Reforma | 2341 | Year: 2020 | Av. Month: junio | Month: agosto | Day: sabado\n",
      "- Value: 2312.75 | Reforma | 2342 | Year: 2020 | Av. Month: junio | Month: agosto | Day: domingo\n",
      "- Value: 1396.2 | Reforma | 2343 | Year: 2020 | Av. Month: junio | Month: agosto | Day: lunes\n",
      "- Value: 1644.6 | Reforma | 2344 | Year: 2020 | Av. Month: junio | Month: septiembre | Day: martes\n",
      "- Value: 1715.75 | Reforma | 2345 | Year: 2020 | Av. Month: junio | Month: septiembre | Day: miercoles\n",
      "- Value: 1735.0 | Reforma | 2346 | Year: 2020 | Av. Month: junio | Month: septiembre | Day: jueves\n",
      "- Value: 1804.0 | Reforma | 2347 | Year: 2020 | Av. Month: junio | Month: septiembre | Day: viernes\n",
      "- Value: 1801.75 | Reforma | 2348 | Year: 2020 | Av. Month: junio | Month: septiembre | Day: sabado\n",
      "- Value: 2312.75 | Reforma | 2349 | Year: 2020 | Av. Month: junio | Month: septiembre | Day: domingo\n",
      "- Value: 1396.2 | Reforma | 2350 | Year: 2020 | Av. Month: junio | Month: septiembre | Day: lunes\n",
      "- Value: 1644.6 | Reforma | 2351 | Year: 2020 | Av. Month: junio | Month: septiembre | Day: martes\n",
      "- Value: 1715.75 | Reforma | 2352 | Year: 2020 | Av. Month: junio | Month: septiembre | Day: miercoles\n",
      "- Value: 1735.0 | Reforma | 2353 | Year: 2020 | Av. Month: junio | Month: septiembre | Day: jueves\n",
      "- Value: 1804.0 | Reforma | 2354 | Year: 2020 | Av. Month: junio | Month: septiembre | Day: viernes\n",
      "- Value: 1801.75 | Reforma | 2355 | Year: 2020 | Av. Month: junio | Month: septiembre | Day: sabado\n",
      "- Value: 2312.75 | Reforma | 2356 | Year: 2020 | Av. Month: junio | Month: septiembre | Day: domingo\n",
      "- Value: 1396.2 | Reforma | 2357 | Year: 2020 | Av. Month: junio | Month: septiembre | Day: lunes\n",
      "- Value: 1644.6 | Reforma | 2358 | Year: 2020 | Av. Month: junio | Month: septiembre | Day: martes\n",
      "- Value: 1715.75 | Reforma | 2359 | Year: 2020 | Av. Month: junio | Month: septiembre | Day: miercoles\n",
      "- Value: 1735.0 | Reforma | 2360 | Year: 2020 | Av. Month: junio | Month: septiembre | Day: jueves\n",
      "- Value: 1804.0 | Reforma | 2361 | Year: 2020 | Av. Month: junio | Month: septiembre | Day: viernes\n",
      "- Value: 1801.75 | Reforma | 2362 | Year: 2020 | Av. Month: junio | Month: septiembre | Day: sabado\n",
      "- Value: 2312.75 | Reforma | 2363 | Year: 2020 | Av. Month: junio | Month: septiembre | Day: domingo\n",
      "- Value: 1396.2 | Reforma | 2364 | Year: 2020 | Av. Month: junio | Month: septiembre | Day: lunes\n",
      "- Value: 1644.6 | Reforma | 2365 | Year: 2020 | Av. Month: junio | Month: septiembre | Day: martes\n",
      "- Value: 1715.75 | Reforma | 2366 | Year: 2020 | Av. Month: junio | Month: septiembre | Day: miercoles\n",
      "- Value: 1735.0 | Reforma | 2367 | Year: 2020 | Av. Month: junio | Month: septiembre | Day: jueves\n",
      "- Value: 1804.0 | Reforma | 2368 | Year: 2020 | Av. Month: junio | Month: septiembre | Day: viernes\n",
      "- Value: 1801.75 | Reforma | 2369 | Year: 2020 | Av. Month: junio | Month: septiembre | Day: sabado\n",
      "- Value: 2312.75 | Reforma | 2370 | Year: 2020 | Av. Month: junio | Month: septiembre | Day: domingo\n",
      "- Value: 1396.2 | Reforma | 2371 | Year: 2020 | Av. Month: junio | Month: septiembre | Day: lunes\n",
      "- Value: 1644.6 | Reforma | 2372 | Year: 2020 | Av. Month: junio | Month: septiembre | Day: martes\n",
      "- Value: 1715.75 | Reforma | 2373 | Year: 2020 | Av. Month: junio | Month: septiembre | Day: miercoles\n",
      "- Value: 1735.0 | Reforma | 2374 | Year: 2020 | Av. Month: junio | Month: octubre | Day: jueves\n",
      "- Value: 1804.0 | Reforma | 2375 | Year: 2020 | Av. Month: junio | Month: octubre | Day: viernes\n",
      "- Value: 1801.75 | Reforma | 2376 | Year: 2020 | Av. Month: junio | Month: octubre | Day: sabado\n",
      "- Value: 2312.75 | Reforma | 2377 | Year: 2020 | Av. Month: junio | Month: octubre | Day: domingo\n"
     ]
    },
    {
     "name": "stdout",
     "output_type": "stream",
     "text": [
      "- Value: 1396.2 | Reforma | 2378 | Year: 2020 | Av. Month: junio | Month: octubre | Day: lunes\n",
      "- Value: 1644.6 | Reforma | 2379 | Year: 2020 | Av. Month: junio | Month: octubre | Day: martes\n",
      "- Value: 1715.75 | Reforma | 2380 | Year: 2020 | Av. Month: junio | Month: octubre | Day: miercoles\n",
      "- Value: 1735.0 | Reforma | 2381 | Year: 2020 | Av. Month: junio | Month: octubre | Day: jueves\n",
      "- Value: 1804.0 | Reforma | 2382 | Year: 2020 | Av. Month: junio | Month: octubre | Day: viernes\n",
      "- Value: 1801.75 | Reforma | 2383 | Year: 2020 | Av. Month: junio | Month: octubre | Day: sabado\n",
      "- Value: 2312.75 | Reforma | 2384 | Year: 2020 | Av. Month: junio | Month: octubre | Day: domingo\n",
      "- Value: 1396.2 | Reforma | 2385 | Year: 2020 | Av. Month: junio | Month: octubre | Day: lunes\n",
      "- Value: 1644.6 | Reforma | 2386 | Year: 2020 | Av. Month: junio | Month: octubre | Day: martes\n",
      "- Value: 1715.75 | Reforma | 2387 | Year: 2020 | Av. Month: junio | Month: octubre | Day: miercoles\n",
      "- Value: 1735.0 | Reforma | 2388 | Year: 2020 | Av. Month: junio | Month: octubre | Day: jueves\n",
      "- Value: 1804.0 | Reforma | 2389 | Year: 2020 | Av. Month: junio | Month: octubre | Day: viernes\n",
      "- Value: 1801.75 | Reforma | 2390 | Year: 2020 | Av. Month: junio | Month: octubre | Day: sabado\n",
      "- Value: 2312.75 | Reforma | 2391 | Year: 2020 | Av. Month: junio | Month: octubre | Day: domingo\n",
      "- Value: 1396.2 | Reforma | 2392 | Year: 2020 | Av. Month: junio | Month: octubre | Day: lunes\n",
      "- Value: 1644.6 | Reforma | 2393 | Year: 2020 | Av. Month: junio | Month: octubre | Day: martes\n",
      "- Value: 1715.75 | Reforma | 2394 | Year: 2020 | Av. Month: junio | Month: octubre | Day: miercoles\n",
      "- Value: 1735.0 | Reforma | 2395 | Year: 2020 | Av. Month: junio | Month: octubre | Day: jueves\n",
      "- Value: 1804.0 | Reforma | 2396 | Year: 2020 | Av. Month: junio | Month: octubre | Day: viernes\n",
      "- Value: 1801.75 | Reforma | 2397 | Year: 2020 | Av. Month: junio | Month: octubre | Day: sabado\n",
      "- Value: 2312.75 | Reforma | 2398 | Year: 2020 | Av. Month: junio | Month: octubre | Day: domingo\n",
      "- Value: 1396.2 | Reforma | 2399 | Year: 2020 | Av. Month: junio | Month: octubre | Day: lunes\n",
      "- Value: 1644.6 | Reforma | 2400 | Year: 2020 | Av. Month: junio | Month: octubre | Day: martes\n",
      "- Value: 1715.75 | Reforma | 2401 | Year: 2020 | Av. Month: junio | Month: octubre | Day: miercoles\n",
      "- Value: 1735.0 | Reforma | 2402 | Year: 2020 | Av. Month: junio | Month: octubre | Day: jueves\n",
      "- Value: 1804.0 | Reforma | 2403 | Year: 2020 | Av. Month: junio | Month: octubre | Day: viernes\n",
      "- Value: 1801.75 | Reforma | 2404 | Year: 2020 | Av. Month: junio | Month: octubre | Day: sabado\n",
      "- Value: 2312.75 | Reforma | 2405 | Year: 2020 | Av. Month: junio | Month: noviembre | Day: domingo\n",
      "- Value: 1396.2 | Reforma | 2406 | Year: 2020 | Av. Month: junio | Month: noviembre | Day: lunes\n",
      "- Value: 1644.6 | Reforma | 2407 | Year: 2020 | Av. Month: junio | Month: noviembre | Day: martes\n",
      "- Value: 1715.75 | Reforma | 2408 | Year: 2020 | Av. Month: junio | Month: noviembre | Day: miercoles\n",
      "- Value: 1735.0 | Reforma | 2409 | Year: 2020 | Av. Month: junio | Month: noviembre | Day: jueves\n",
      "- Value: 1804.0 | Reforma | 2410 | Year: 2020 | Av. Month: junio | Month: noviembre | Day: viernes\n",
      "- Value: 1801.75 | Reforma | 2411 | Year: 2020 | Av. Month: junio | Month: noviembre | Day: sabado\n",
      "- Value: 2312.75 | Reforma | 2412 | Year: 2020 | Av. Month: junio | Month: noviembre | Day: domingo\n",
      "- Value: 1396.2 | Reforma | 2413 | Year: 2020 | Av. Month: junio | Month: noviembre | Day: lunes\n",
      "- Value: 1644.6 | Reforma | 2414 | Year: 2020 | Av. Month: junio | Month: noviembre | Day: martes\n",
      "- Value: 1715.75 | Reforma | 2415 | Year: 2020 | Av. Month: junio | Month: noviembre | Day: miercoles\n",
      "- Value: 1735.0 | Reforma | 2416 | Year: 2020 | Av. Month: junio | Month: noviembre | Day: jueves\n",
      "- Value: 1804.0 | Reforma | 2417 | Year: 2020 | Av. Month: junio | Month: noviembre | Day: viernes\n",
      "- Value: 1801.75 | Reforma | 2418 | Year: 2020 | Av. Month: junio | Month: noviembre | Day: sabado\n",
      "- Value: 2312.75 | Reforma | 2419 | Year: 2020 | Av. Month: junio | Month: noviembre | Day: domingo\n",
      "- Value: 1396.2 | Reforma | 2420 | Year: 2020 | Av. Month: junio | Month: noviembre | Day: lunes\n",
      "- Value: 1644.6 | Reforma | 2421 | Year: 2020 | Av. Month: junio | Month: noviembre | Day: martes\n",
      "- Value: 1715.75 | Reforma | 2422 | Year: 2020 | Av. Month: junio | Month: noviembre | Day: miercoles\n",
      "- Value: 1735.0 | Reforma | 2423 | Year: 2020 | Av. Month: junio | Month: noviembre | Day: jueves\n",
      "- Value: 1804.0 | Reforma | 2424 | Year: 2020 | Av. Month: junio | Month: noviembre | Day: viernes\n",
      "- Value: 1801.75 | Reforma | 2425 | Year: 2020 | Av. Month: junio | Month: noviembre | Day: sabado\n",
      "- Value: 2312.75 | Reforma | 2426 | Year: 2020 | Av. Month: junio | Month: noviembre | Day: domingo\n",
      "- Value: 1396.2 | Reforma | 2427 | Year: 2020 | Av. Month: junio | Month: noviembre | Day: lunes\n",
      "- Value: 1644.6 | Reforma | 2428 | Year: 2020 | Av. Month: junio | Month: noviembre | Day: martes\n",
      "- Value: 1715.75 | Reforma | 2429 | Year: 2020 | Av. Month: junio | Month: noviembre | Day: miercoles\n",
      "- Value: 1735.0 | Reforma | 2430 | Year: 2020 | Av. Month: junio | Month: noviembre | Day: jueves\n",
      "- Value: 1804.0 | Reforma | 2431 | Year: 2020 | Av. Month: junio | Month: noviembre | Day: viernes\n",
      "- Value: 1801.75 | Reforma | 2432 | Year: 2020 | Av. Month: junio | Month: noviembre | Day: sabado\n",
      "- Value: 2312.75 | Reforma | 2433 | Year: 2020 | Av. Month: junio | Month: noviembre | Day: domingo\n",
      "- Value: 1396.2 | Reforma | 2434 | Year: 2020 | Av. Month: junio | Month: noviembre | Day: lunes\n",
      "- Value: 1644.6 | Reforma | 2435 | Year: 2020 | Av. Month: junio | Month: diciembre | Day: martes\n",
      "- Value: 1715.75 | Reforma | 2436 | Year: 2020 | Av. Month: junio | Month: diciembre | Day: miercoles\n",
      "- Value: 1735.0 | Reforma | 2437 | Year: 2020 | Av. Month: junio | Month: diciembre | Day: jueves\n",
      "- Value: 1804.0 | Reforma | 2438 | Year: 2020 | Av. Month: junio | Month: diciembre | Day: viernes\n",
      "- Value: 1801.75 | Reforma | 2439 | Year: 2020 | Av. Month: junio | Month: diciembre | Day: sabado\n",
      "- Value: 2312.75 | Reforma | 2440 | Year: 2020 | Av. Month: junio | Month: diciembre | Day: domingo\n",
      "- Value: 1396.2 | Reforma | 2441 | Year: 2020 | Av. Month: junio | Month: diciembre | Day: lunes\n",
      "- Value: 1644.6 | Reforma | 2442 | Year: 2020 | Av. Month: junio | Month: diciembre | Day: martes\n",
      "- Value: 1715.75 | Reforma | 2443 | Year: 2020 | Av. Month: junio | Month: diciembre | Day: miercoles\n",
      "- Value: 1735.0 | Reforma | 2444 | Year: 2020 | Av. Month: junio | Month: diciembre | Day: jueves\n",
      "- Value: 1804.0 | Reforma | 2445 | Year: 2020 | Av. Month: junio | Month: diciembre | Day: viernes\n",
      "- Value: 1801.75 | Reforma | 2446 | Year: 2020 | Av. Month: junio | Month: diciembre | Day: sabado\n",
      "- Value: 2312.75 | Reforma | 2447 | Year: 2020 | Av. Month: junio | Month: diciembre | Day: domingo\n",
      "- Value: 1396.2 | Reforma | 2448 | Year: 2020 | Av. Month: junio | Month: diciembre | Day: lunes\n",
      "- Value: 1644.6 | Reforma | 2449 | Year: 2020 | Av. Month: junio | Month: diciembre | Day: martes\n",
      "- Value: 1715.75 | Reforma | 2450 | Year: 2020 | Av. Month: junio | Month: diciembre | Day: miercoles\n",
      "- Value: 1735.0 | Reforma | 2451 | Year: 2020 | Av. Month: junio | Month: diciembre | Day: jueves\n",
      "- Value: 1804.0 | Reforma | 2452 | Year: 2020 | Av. Month: junio | Month: diciembre | Day: viernes\n",
      "- Value: 1801.75 | Reforma | 2453 | Year: 2020 | Av. Month: junio | Month: diciembre | Day: sabado\n",
      "- Value: 2312.75 | Reforma | 2454 | Year: 2020 | Av. Month: junio | Month: diciembre | Day: domingo\n",
      "- Value: 1396.2 | Reforma | 2455 | Year: 2020 | Av. Month: junio | Month: diciembre | Day: lunes\n",
      "- Value: 1644.6 | Reforma | 2456 | Year: 2020 | Av. Month: junio | Month: diciembre | Day: martes\n",
      "- Value: 1715.75 | Reforma | 2457 | Year: 2020 | Av. Month: junio | Month: diciembre | Day: miercoles\n",
      "- Value: 1735.0 | Reforma | 2458 | Year: 2020 | Av. Month: junio | Month: diciembre | Day: jueves\n",
      "- Value: 1804.0 | Reforma | 2459 | Year: 2020 | Av. Month: junio | Month: diciembre | Day: viernes\n",
      "- Value: 1801.75 | Reforma | 2460 | Year: 2020 | Av. Month: junio | Month: diciembre | Day: sabado\n",
      "- Value: 2312.75 | Reforma | 2461 | Year: 2020 | Av. Month: junio | Month: diciembre | Day: domingo\n",
      "- Value: 1396.2 | Reforma | 2462 | Year: 2020 | Av. Month: junio | Month: diciembre | Day: lunes\n",
      "- Value: 1644.6 | Reforma | 2463 | Year: 2020 | Av. Month: junio | Month: diciembre | Day: martes\n",
      "- Value: 1715.75 | Reforma | 2464 | Year: 2020 | Av. Month: junio | Month: diciembre | Day: miercoles\n",
      "- Value: 1735.0 | Reforma | 2465 | Year: 2020 | Av. Month: junio | Month: diciembre | Day: jueves\n"
     ]
    },
    {
     "ename": "IndexError",
     "evalue": "single positional indexer is out-of-bounds",
     "output_type": "error",
     "traceback": [
      "\u001b[1;31m---------------------------------------------------------------------------\u001b[0m",
      "\u001b[1;31mIndexError\u001b[0m                                Traceback (most recent call last)",
      "\u001b[1;32m<ipython-input-32-fdcea410c5d5>\u001b[0m in \u001b[0;36m<module>\u001b[1;34m\u001b[0m\n\u001b[0;32m     26\u001b[0m \u001b[1;33m\u001b[0m\u001b[0m\n\u001b[0;32m     27\u001b[0m                 \u001b[1;31m# Get mean of past month\u001b[0m\u001b[1;33m\u001b[0m\u001b[1;33m\u001b[0m\u001b[1;33m\u001b[0m\u001b[0m\n\u001b[1;32m---> 28\u001b[1;33m                 \u001b[0mmean_last_available_month\u001b[0m \u001b[1;33m=\u001b[0m \u001b[0mmeans\u001b[0m\u001b[1;33m.\u001b[0m\u001b[0mloc\u001b[0m\u001b[1;33m[\u001b[0m\u001b[1;33m(\u001b[0m\u001b[0mmeans\u001b[0m\u001b[1;33m.\u001b[0m\u001b[0mAño\u001b[0m \u001b[1;33m==\u001b[0m \u001b[0myear_last_available_month\u001b[0m\u001b[1;33m)\u001b[0m \u001b[1;33m&\u001b[0m \u001b[1;33m(\u001b[0m\u001b[0mmeans\u001b[0m\u001b[1;33m.\u001b[0m\u001b[0mMes\u001b[0m \u001b[1;33m==\u001b[0m \u001b[0mlast_available_month\u001b[0m\u001b[1;33m)\u001b[0m \u001b[1;33m&\u001b[0m \u001b[1;33m(\u001b[0m\u001b[0mmeans\u001b[0m\u001b[1;33m[\u001b[0m\u001b[1;34m'Día de la semana'\u001b[0m\u001b[1;33m]\u001b[0m \u001b[1;33m==\u001b[0m \u001b[0mday\u001b[0m\u001b[1;33m)\u001b[0m\u001b[1;33m,\u001b[0m \u001b[0mcounter\u001b[0m\u001b[1;33m]\u001b[0m\u001b[1;33m.\u001b[0m\u001b[0miloc\u001b[0m\u001b[1;33m[\u001b[0m\u001b[1;36m0\u001b[0m\u001b[1;33m]\u001b[0m\u001b[1;33m\u001b[0m\u001b[1;33m\u001b[0m\u001b[0m\n\u001b[0m\u001b[0;32m     29\u001b[0m \u001b[1;33m\u001b[0m\u001b[0m\n\u001b[0;32m     30\u001b[0m             \u001b[1;31m# Assign value to cell\u001b[0m\u001b[1;33m\u001b[0m\u001b[1;33m\u001b[0m\u001b[1;33m\u001b[0m\u001b[0m\n",
      "\u001b[1;32m~\\anaconda3\\lib\\site-packages\\pandas\\core\\indexing.py\u001b[0m in \u001b[0;36m__getitem__\u001b[1;34m(self, key)\u001b[0m\n\u001b[0;32m    893\u001b[0m \u001b[1;33m\u001b[0m\u001b[0m\n\u001b[0;32m    894\u001b[0m             \u001b[0mmaybe_callable\u001b[0m \u001b[1;33m=\u001b[0m \u001b[0mcom\u001b[0m\u001b[1;33m.\u001b[0m\u001b[0mapply_if_callable\u001b[0m\u001b[1;33m(\u001b[0m\u001b[0mkey\u001b[0m\u001b[1;33m,\u001b[0m \u001b[0mself\u001b[0m\u001b[1;33m.\u001b[0m\u001b[0mobj\u001b[0m\u001b[1;33m)\u001b[0m\u001b[1;33m\u001b[0m\u001b[1;33m\u001b[0m\u001b[0m\n\u001b[1;32m--> 895\u001b[1;33m             \u001b[1;32mreturn\u001b[0m \u001b[0mself\u001b[0m\u001b[1;33m.\u001b[0m\u001b[0m_getitem_axis\u001b[0m\u001b[1;33m(\u001b[0m\u001b[0mmaybe_callable\u001b[0m\u001b[1;33m,\u001b[0m \u001b[0maxis\u001b[0m\u001b[1;33m=\u001b[0m\u001b[0maxis\u001b[0m\u001b[1;33m)\u001b[0m\u001b[1;33m\u001b[0m\u001b[1;33m\u001b[0m\u001b[0m\n\u001b[0m\u001b[0;32m    896\u001b[0m \u001b[1;33m\u001b[0m\u001b[0m\n\u001b[0;32m    897\u001b[0m     \u001b[1;32mdef\u001b[0m \u001b[0m_is_scalar_access\u001b[0m\u001b[1;33m(\u001b[0m\u001b[0mself\u001b[0m\u001b[1;33m,\u001b[0m \u001b[0mkey\u001b[0m\u001b[1;33m:\u001b[0m \u001b[0mTuple\u001b[0m\u001b[1;33m)\u001b[0m\u001b[1;33m:\u001b[0m\u001b[1;33m\u001b[0m\u001b[1;33m\u001b[0m\u001b[0m\n",
      "\u001b[1;32m~\\anaconda3\\lib\\site-packages\\pandas\\core\\indexing.py\u001b[0m in \u001b[0;36m_getitem_axis\u001b[1;34m(self, key, axis)\u001b[0m\n\u001b[0;32m   1499\u001b[0m \u001b[1;33m\u001b[0m\u001b[0m\n\u001b[0;32m   1500\u001b[0m             \u001b[1;31m# validate the location\u001b[0m\u001b[1;33m\u001b[0m\u001b[1;33m\u001b[0m\u001b[1;33m\u001b[0m\u001b[0m\n\u001b[1;32m-> 1501\u001b[1;33m             \u001b[0mself\u001b[0m\u001b[1;33m.\u001b[0m\u001b[0m_validate_integer\u001b[0m\u001b[1;33m(\u001b[0m\u001b[0mkey\u001b[0m\u001b[1;33m,\u001b[0m \u001b[0maxis\u001b[0m\u001b[1;33m)\u001b[0m\u001b[1;33m\u001b[0m\u001b[1;33m\u001b[0m\u001b[0m\n\u001b[0m\u001b[0;32m   1502\u001b[0m \u001b[1;33m\u001b[0m\u001b[0m\n\u001b[0;32m   1503\u001b[0m             \u001b[1;32mreturn\u001b[0m \u001b[0mself\u001b[0m\u001b[1;33m.\u001b[0m\u001b[0mobj\u001b[0m\u001b[1;33m.\u001b[0m\u001b[0m_ixs\u001b[0m\u001b[1;33m(\u001b[0m\u001b[0mkey\u001b[0m\u001b[1;33m,\u001b[0m \u001b[0maxis\u001b[0m\u001b[1;33m=\u001b[0m\u001b[0maxis\u001b[0m\u001b[1;33m)\u001b[0m\u001b[1;33m\u001b[0m\u001b[1;33m\u001b[0m\u001b[0m\n",
      "\u001b[1;32m~\\anaconda3\\lib\\site-packages\\pandas\\core\\indexing.py\u001b[0m in \u001b[0;36m_validate_integer\u001b[1;34m(self, key, axis)\u001b[0m\n\u001b[0;32m   1442\u001b[0m         \u001b[0mlen_axis\u001b[0m \u001b[1;33m=\u001b[0m \u001b[0mlen\u001b[0m\u001b[1;33m(\u001b[0m\u001b[0mself\u001b[0m\u001b[1;33m.\u001b[0m\u001b[0mobj\u001b[0m\u001b[1;33m.\u001b[0m\u001b[0m_get_axis\u001b[0m\u001b[1;33m(\u001b[0m\u001b[0maxis\u001b[0m\u001b[1;33m)\u001b[0m\u001b[1;33m)\u001b[0m\u001b[1;33m\u001b[0m\u001b[1;33m\u001b[0m\u001b[0m\n\u001b[0;32m   1443\u001b[0m         \u001b[1;32mif\u001b[0m \u001b[0mkey\u001b[0m \u001b[1;33m>=\u001b[0m \u001b[0mlen_axis\u001b[0m \u001b[1;32mor\u001b[0m \u001b[0mkey\u001b[0m \u001b[1;33m<\u001b[0m \u001b[1;33m-\u001b[0m\u001b[0mlen_axis\u001b[0m\u001b[1;33m:\u001b[0m\u001b[1;33m\u001b[0m\u001b[1;33m\u001b[0m\u001b[0m\n\u001b[1;32m-> 1444\u001b[1;33m             \u001b[1;32mraise\u001b[0m \u001b[0mIndexError\u001b[0m\u001b[1;33m(\u001b[0m\u001b[1;34m\"single positional indexer is out-of-bounds\"\u001b[0m\u001b[1;33m)\u001b[0m\u001b[1;33m\u001b[0m\u001b[1;33m\u001b[0m\u001b[0m\n\u001b[0m\u001b[0;32m   1445\u001b[0m \u001b[1;33m\u001b[0m\u001b[0m\n\u001b[0;32m   1446\u001b[0m     \u001b[1;31m# -------------------------------------------------------------------\u001b[0m\u001b[1;33m\u001b[0m\u001b[1;33m\u001b[0m\u001b[1;33m\u001b[0m\u001b[0m\n",
      "\u001b[1;31mIndexError\u001b[0m: single positional indexer is out-of-bounds"
     ]
    }
   ],
   "source": [
    "# Fill missing values with the mean of the past month's corresponding day.\n",
    "for counter in counters:\n",
    "    for i in contador.index.tolist():\n",
    "        if pd.isnull(contador.loc[i, counter]):\n",
    "            # Get current date\n",
    "            day = contador['Día de la semana'][i]\n",
    "            month = contador['Mes'][i]\n",
    "            year = contador['Año'][i]\n",
    "\n",
    "            # Get mean of last available month.\n",
    "            mean_last_available_month = np.NaN\n",
    "            index_adjuster = 0\n",
    "            while pd.isnull(mean_last_available_month):\n",
    "                # Get past month and its year\n",
    "                index_adjuster -= 1\n",
    "                last_available_month = months[months.index(month)+index_adjuster]\n",
    "                year_last_available_month = year\n",
    "\n",
    "                if last_available_month == 'diciembre':\n",
    "                    year_last_available_month -= 1\n",
    "\n",
    "                ### Avoid outlier values from July 2017\n",
    "                if last_available_month == 'julio':\n",
    "                    index_adjuster -= 1\n",
    "                    last_available_month = months[months.index(month)+index_adjuster]\n",
    "\n",
    "                # Get mean of past month\n",
    "                mean_last_available_month = means.loc[(means.Año == year_last_available_month) & (means.Mes == last_available_month) & (means['Día de la semana'] == day), counter].iloc[0]         \n",
    "\n",
    "            # Assign value to cell \n",
    "            contador.loc[i, counter] = mean_last_available_month\n",
    "\n",
    "            # Print value assigned to cell\n",
    "            print(f'- Value: {mean_last_available_month} | {counter} | {i} | Year: {year_last_available_month} | Av. Month: {last_available_month} | Month: {month} | Day: {day}')\n",
    "            \n",
    "            \n",
    "except:\n",
    "    I"
   ]
  },
  {
   "cell_type": "markdown",
   "metadata": {},
   "source": [
    "By doing a quick scan of the values we used for replacement, there don't appear to be any outliers."
   ]
  },
  {
   "cell_type": "code",
   "execution_count": null,
   "metadata": {},
   "outputs": [],
   "source": [
    "contador.isnull().sum()"
   ]
  },
  {
   "cell_type": "markdown",
   "metadata": {},
   "source": [
    "Also, we do not have any missing values. Let's see how our new dataset looks like:"
   ]
  },
  {
   "cell_type": "code",
   "execution_count": null,
   "metadata": {},
   "outputs": [],
   "source": [
    "sns.set_theme()\n",
    "data_lineplot = pd.melt(contador[['Fecha', 'Reforma', 'Revolución', 'Patriotismo']], 'Fecha', var_name='contador', value_name='número')\n",
    "sns.lineplot(x='Fecha', y='número', hue='contador', data=data_lineplot)\n",
    "\n",
    "#Change figure size\n",
    "sns.set(rc={'figure.figsize':(16,9)});"
   ]
  },
  {
   "cell_type": "markdown",
   "metadata": {},
   "source": [
    "### Save dataset"
   ]
  },
  {
   "cell_type": "code",
   "execution_count": null,
   "metadata": {},
   "outputs": [],
   "source": [
    "# Create column with total cyclists of a given day\n",
    "contador['total'] = contador['Patriotismo'] + contador['Revolución'] + contador['Reforma']\n",
    "contador['total'] = contador['total'].astype('int64')"
   ]
  },
  {
   "cell_type": "code",
   "execution_count": null,
   "metadata": {},
   "outputs": [],
   "source": [
    "# Change column type to integer.\n",
    "for counter in counters:\n",
    "    contador[counter] = contador[counter].astype('int64')"
   ]
  },
  {
   "cell_type": "code",
   "execution_count": null,
   "metadata": {},
   "outputs": [],
   "source": [
    "contador.head()"
   ]
  },
  {
   "cell_type": "code",
   "execution_count": null,
   "metadata": {},
   "outputs": [],
   "source": [
    "contador_final = contador.copy()"
   ]
  },
  {
   "cell_type": "code",
   "execution_count": null,
   "metadata": {},
   "outputs": [],
   "source": [
    "contador_final.info()"
   ]
  },
  {
   "cell_type": "code",
   "execution_count": null,
   "metadata": {},
   "outputs": [],
   "source": [
    "contador_final.to_csv('Data/contador_final.csv', index=False)"
   ]
  },
  {
   "cell_type": "markdown",
   "metadata": {},
   "source": [
    "# 2. Road accidents"
   ]
  },
  {
   "cell_type": "markdown",
   "metadata": {},
   "source": [
    "### Data exploration"
   ]
  },
  {
   "cell_type": "code",
   "execution_count": null,
   "metadata": {},
   "outputs": [],
   "source": [
    "incidentes.head(4)"
   ]
  },
  {
   "cell_type": "markdown",
   "metadata": {},
   "source": [
    "Let's work only with the columns that seem relevant for our purposes. "
   ]
  },
  {
   "cell_type": "code",
   "execution_count": null,
   "metadata": {},
   "outputs": [],
   "source": [
    "incidentes = incidentes[['dia_semana', 'fecha_creacion', 'hora_creacion', 'mes', 'delegacion_inicio', 'latitud', 'longitud', 'geopoint']]"
   ]
  },
  {
   "cell_type": "code",
   "execution_count": null,
   "metadata": {},
   "outputs": [],
   "source": [
    "incidentes.head(4)"
   ]
  },
  {
   "cell_type": "code",
   "execution_count": null,
   "metadata": {},
   "outputs": [],
   "source": [
    "incidentes.info()"
   ]
  },
  {
   "cell_type": "markdown",
   "metadata": {},
   "source": [
    "We should transform the date and hour columns to a single datetime column. Also, let's see the distribution of hours of the reports, to check whether there are any mistakes."
   ]
  },
  {
   "cell_type": "code",
   "execution_count": null,
   "metadata": {},
   "outputs": [],
   "source": [
    "incidentes.hora_creacion.value_counts()"
   ]
  },
  {
   "cell_type": "markdown",
   "metadata": {},
   "source": [
    "All the hours seem to be properly registered. Now let's check the format:"
   ]
  },
  {
   "cell_type": "code",
   "execution_count": null,
   "metadata": {},
   "outputs": [],
   "source": [
    "incidentes.loc[incidentes['hora_creacion'].str.match(r'\\d\\d:\\d\\d:\\d\\d') == False, 'hora_creacion']"
   ]
  },
  {
   "cell_type": "markdown",
   "metadata": {},
   "source": [
    "We have multiple values that do not have the proper format. Let's see if they represent time expressed as number of seconds, in decimal form. "
   ]
  },
  {
   "cell_type": "code",
   "execution_count": null,
   "metadata": {},
   "outputs": [],
   "source": [
    "t = \"11:12:21\"\n",
    "(h, m, s) = t.split(':')\n",
    "result = int(h) * 3600 + int(m) * 60 + int(s)\n",
    "result"
   ]
  },
  {
   "cell_type": "markdown",
   "metadata": {},
   "source": [
    "No, the numbers we had before are too large to represent seconds. Also, they do not seem to have a distinguishable pattern. Therefore, let's just drop them. "
   ]
  },
  {
   "cell_type": "code",
   "execution_count": null,
   "metadata": {},
   "outputs": [],
   "source": [
    "len(incidentes)"
   ]
  },
  {
   "cell_type": "code",
   "execution_count": null,
   "metadata": {},
   "outputs": [],
   "source": [
    "incidentes = incidentes[incidentes['hora_creacion'].str.match(r'\\d\\d:\\d\\d:\\d\\d') == True]"
   ]
  },
  {
   "cell_type": "code",
   "execution_count": null,
   "metadata": {},
   "outputs": [],
   "source": [
    "len(incidentes)"
   ]
  },
  {
   "cell_type": "markdown",
   "metadata": {},
   "source": [
    "Now let's proceed to transform the time columns."
   ]
  },
  {
   "cell_type": "markdown",
   "metadata": {},
   "source": [
    "### Data cleaning"
   ]
  },
  {
   "cell_type": "code",
   "execution_count": null,
   "metadata": {},
   "outputs": [],
   "source": [
    "# Clean day column.\n",
    "incidentes['dia_semana'] = incidentes['dia_semana'].str.lower()"
   ]
  },
  {
   "cell_type": "code",
   "execution_count": null,
   "metadata": {},
   "outputs": [],
   "source": [
    "# Combine date and time columns\n",
    "fecha_hora = pd.Series(incidentes['fecha_creacion'] + ' ' + incidentes['hora_creacion'])"
   ]
  },
  {
   "cell_type": "code",
   "execution_count": null,
   "metadata": {},
   "outputs": [],
   "source": [
    "# Insert new column\n",
    "incidentes.insert(1, 'fecha_hora', fecha_hora)"
   ]
  },
  {
   "cell_type": "code",
   "execution_count": null,
   "metadata": {},
   "outputs": [],
   "source": [
    "# Change new column to datetime format\n",
    "incidentes['fecha_hora'] = pd.to_datetime(incidentes['fecha_hora'], format='%d/%m/%Y %H:%M:%S')"
   ]
  },
  {
   "cell_type": "code",
   "execution_count": null,
   "metadata": {},
   "outputs": [],
   "source": [
    "# Change type of time columns\n",
    "incidentes['fecha_creacion'] = pd.to_datetime(incidentes['fecha_creacion'], format='%d/%m/%Y')\n",
    "incidentes['hora_creacion'] = pd.to_datetime(incidentes['hora_creacion'], format='%H:%M:%S').dt.time"
   ]
  },
  {
   "cell_type": "code",
   "execution_count": null,
   "metadata": {},
   "outputs": [],
   "source": [
    "incidentes.info()"
   ]
  },
  {
   "cell_type": "code",
   "execution_count": null,
   "metadata": {},
   "outputs": [],
   "source": [
    "# Drop extra columns\n",
    "incidentes.drop(['fecha_creacion', 'mes'], axis=1, inplace=True)\n",
    "\n",
    "# Create new columns with year, month, and hour. \n",
    "incidentes.insert(2, 'hora', incidentes['fecha_hora'].dt.hour)\n",
    "incidentes.insert(2, 'mes', incidentes['fecha_hora'].dt.month)\n",
    "incidentes.insert(2, 'año', incidentes['fecha_hora'].dt.year)"
   ]
  },
  {
   "cell_type": "code",
   "execution_count": null,
   "metadata": {},
   "outputs": [],
   "source": [
    "incidentes.head(4)"
   ]
  },
  {
   "cell_type": "code",
   "execution_count": null,
   "metadata": {},
   "outputs": [],
   "source": [
    "# Remove special characters\n",
    "incidentes['dia_semana'] = incidentes['dia_semana'].str.replace('á', 'a').str.replace('é', 'e')"
   ]
  },
  {
   "cell_type": "code",
   "execution_count": null,
   "metadata": {},
   "outputs": [],
   "source": [
    "incidentes.head()"
   ]
  },
  {
   "cell_type": "code",
   "execution_count": null,
   "metadata": {},
   "outputs": [],
   "source": [
    "# Transform months back to text\n",
    "incidentes['mes'] = incidentes['mes'].map(dict_meses_inverso)"
   ]
  },
  {
   "cell_type": "markdown",
   "metadata": {},
   "source": [
    "### Save dataset"
   ]
  },
  {
   "cell_type": "code",
   "execution_count": null,
   "metadata": {},
   "outputs": [],
   "source": [
    "incidentes_final = incidentes.copy()"
   ]
  },
  {
   "cell_type": "code",
   "execution_count": null,
   "metadata": {},
   "outputs": [],
   "source": [
    "incidentes_final.to_csv('Data/incidentes_final.csv', index=False)"
   ]
  },
  {
   "cell_type": "markdown",
   "metadata": {},
   "source": [
    "## 3. Estudio 2018 Ciclismo"
   ]
  },
  {
   "cell_type": "markdown",
   "metadata": {},
   "source": [
    "### Data exploration"
   ]
  },
  {
   "cell_type": "code",
   "execution_count": null,
   "metadata": {},
   "outputs": [],
   "source": [
    "estudio.head(4)"
   ]
  },
  {
   "cell_type": "markdown",
   "metadata": {},
   "source": [
    "We have too many columns, so let's expand the default display configuration to analyze them. "
   ]
  },
  {
   "cell_type": "code",
   "execution_count": null,
   "metadata": {},
   "outputs": [],
   "source": [
    "pd.set_option('display.max_columns', 500)\n",
    "estudio.head(4)"
   ]
  },
  {
   "cell_type": "markdown",
   "metadata": {},
   "source": [
    "This dataset is based on a large questionaire and, unfortunately, it is label encoded and abreviated. Therefore, one has to read the [accompanying file](https://github.com/FranciscoGalan/Bicycle_Commuting_Mexico_City/blob/main/Data/Diccionario%20Estudio%20de%20Conteo%20Ciclista%202018.csv) of the dataset, which explains what each label means. \n",
    "\n",
    "I already did a preselection of the columns that interest me, so I'll proceed to select them. "
   ]
  },
  {
   "cell_type": "code",
   "execution_count": null,
   "metadata": {},
   "outputs": [],
   "source": [
    "columnas = ['CALLE_LEV', 'F1', 'P1', 'P3', 'P6', 'P15', 'P18', 'P19', 'P20', 'P21_NIVEL', 'P23_1']\n",
    "estudio1 = estudio.copy()\n",
    "estudio1 = estudio1[columnas]"
   ]
  },
  {
   "cell_type": "markdown",
   "metadata": {},
   "source": [
    "Now, let's change the names of the columns so they are easier to understand."
   ]
  },
  {
   "cell_type": "code",
   "execution_count": null,
   "metadata": {},
   "outputs": [],
   "source": [
    "# Create dictionary to rename columns\n",
    "nombres = ['calle_lev', 'edad', 'origen', 'destino', 'motivo_viaje', 'motivo_dejar_bici', 'robado_bici', 'robo_forma', 'sexo', 'educacion', 'ingreso_mensual']\n",
    "ch_columnas = estudio1.columns.tolist()\n",
    "res = {ch_columnas[i]: nombres[i] for i in range(len(ch_columnas))}"
   ]
  },
  {
   "cell_type": "code",
   "execution_count": null,
   "metadata": {
    "scrolled": true
   },
   "outputs": [],
   "source": [
    "# Rename columns\n",
    "estudio1 = estudio1.rename(columns=res)"
   ]
  },
  {
   "cell_type": "markdown",
   "metadata": {},
   "source": [
    "We should also remove the label encoding and insert, instead, the textual information."
   ]
  },
  {
   "cell_type": "code",
   "execution_count": null,
   "metadata": {},
   "outputs": [],
   "source": [
    "# Create dictionaries with number-text answer\n",
    "dict_origen = {1:'Hogar',\n",
    "              2:'Trabajo',\n",
    "              3:'Escuela',\n",
    "              4:'Centro comercial, tienda, mercado',\n",
    "              5:'Otra vivienda',\n",
    "              6:'Restaurante, bar, cafetería',\n",
    "              7:'Otro',\n",
    "              98:'No sabe',\n",
    "              99:'No sabe'}\n",
    "dict_destino = {1:'Hogar',\n",
    "              2:'Trabajo',\n",
    "              3:'Escuela',\n",
    "              4:'Centro comercial, tienda, mercado',\n",
    "              5:'Otra vivienda',\n",
    "              6:'Restaurante, bar, cafetería',\n",
    "              7:'Otro',\n",
    "              98:'No sabe',\n",
    "              99:'No sabe'}\n",
    "dict_motivo_viaje = {1:'Ir al trabajo',\n",
    "                    2:'Regreso a casa',\n",
    "                    3:'Ir a estudiar',\n",
    "                    4:'Hacer compras',\n",
    "                    5:'Llevar o recoger a alguien',\n",
    "                    6:'Recreación',\n",
    "                    7:'Ir a comer',\n",
    "                    8:'Relacionado con el trabajo',\n",
    "                    9:'Trámite',\n",
    "                    10:'Ir de visita',\n",
    "                    98:'No sabe',\n",
    "                    99:'No contestó'}\n",
    "dict_motivo_dejar_bici = {1:'Lesión o incapacidad',\n",
    "                         2:'Fala mecánica de bici',\n",
    "                         3: 'Cambio de trabajo',\n",
    "                         4: 'Llevar prisa',\n",
    "                         5: 'Recorrido muy largo',\n",
    "                         6: 'Falta de infraestructura',\n",
    "                         7: 'Clima',\n",
    "                         8: 'Inseguridad',\n",
    "                         9: 'No haya bici disponible',\n",
    "                         10: 'Ningún motivo',\n",
    "                         11: 'No sé',\n",
    "                         12: 'No contestó'}\n",
    "dict_robado_bici = {1:'Sí', 2:'No', 8:'No sabe', 9:'No contestó'}\n",
    "dict_robo_forma = {1:'Estacionada', 2:'En movimiento', 8:'No sabe', 9:'No contestó'}\n",
    "dict_sexo = {1: 'Hombre', 2:'Mujer'}\n",
    "dict_educacion = {1:'Ninguno',\n",
    "                 2:'Preescolar',\n",
    "                 3:'Primaria',\n",
    "                 4:'Secundaria',\n",
    "                 5:'Preparatoria o Bachillerato',\n",
    "                 6:'Normal',\n",
    "                 7:'Carrera Técnica',\n",
    "                 8:'Licenciatura',\n",
    "                 9:'Maestría',\n",
    "                 10:'Doctorado',\n",
    "                 98:'No sabe',\n",
    "                  99:'No contestó'}\n",
    "dict_ingreso_mensual = {1:'>1,000',\n",
    "                       2:'1,001-3,000',\n",
    "                       3:'3,001-6,000',\n",
    "                       4:'6,001-10,000',\n",
    "                       5:'10,001-15000',\n",
    "                       6:'<15,001',\n",
    "                       9:'No contestó'}"
   ]
  },
  {
   "cell_type": "code",
   "execution_count": null,
   "metadata": {},
   "outputs": [],
   "source": [
    "# Change values in columns\n",
    "columns = estudio1.columns[2:].to_list()\n",
    "dictionaries = [dict_origen, dict_destino, dict_motivo_viaje, dict_motivo_dejar_bici, dict_robado_bici,\n",
    "              dict_robo_forma, dict_sexo, dict_educacion, dict_ingreso_mensual]\n",
    "\n",
    "for i in range(len(columns)):\n",
    "    estudio1[columns[i]] = estudio1[columns[i]].map(dictionaries[i])"
   ]
  },
  {
   "cell_type": "code",
   "execution_count": null,
   "metadata": {},
   "outputs": [],
   "source": [
    "estudio1.head() "
   ]
  },
  {
   "cell_type": "markdown",
   "metadata": {},
   "source": [
    "### Save dataset"
   ]
  },
  {
   "cell_type": "code",
   "execution_count": null,
   "metadata": {},
   "outputs": [],
   "source": [
    "estudio_final = estudio1.copy()"
   ]
  },
  {
   "cell_type": "code",
   "execution_count": null,
   "metadata": {},
   "outputs": [],
   "source": [
    "estudio_final.to_csv('Data/estudio_final.csv', index=False)"
   ]
  },
  {
   "cell_type": "markdown",
   "metadata": {},
   "source": [
    "#### Save dataset of motivo_dejar bici"
   ]
  },
  {
   "cell_type": "code",
   "execution_count": null,
   "metadata": {},
   "outputs": [],
   "source": [
    "a = pd.Series(estudio_final['motivo_dejar_bici'].value_counts())"
   ]
  },
  {
   "cell_type": "code",
   "execution_count": null,
   "metadata": {},
   "outputs": [],
   "source": [
    "a.to_csv('Data/motivo_dejar_final.csv')"
   ]
  }
 ],
 "metadata": {
  "kernelspec": {
   "display_name": "Python 3",
   "language": "python",
   "name": "python3"
  },
  "language_info": {
   "codemirror_mode": {
    "name": "ipython",
    "version": 3
   },
   "file_extension": ".py",
   "mimetype": "text/x-python",
   "name": "python",
   "nbconvert_exporter": "python",
   "pygments_lexer": "ipython3",
   "version": "3.8.8"
  }
 },
 "nbformat": 4,
 "nbformat_minor": 4
}
